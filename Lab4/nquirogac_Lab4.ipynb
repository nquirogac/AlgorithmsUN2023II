{
  "cells": [
    {
      "cell_type": "code",
      "execution_count": null,
      "metadata": {
        "id": "im-VVd1__7VU",
        "colab": {
          "base_uri": "https://localhost:8080/"
        },
        "outputId": "ebab106b-26ee-457c-9590-08113fa9fc9c"
      },
      "outputs": [
        {
          "output_type": "stream",
          "name": "stdout",
          "text": [
            "processor\t: 0\n",
            "vendor_id\t: GenuineIntel\n",
            "cpu family\t: 6\n",
            "model\t\t: 79\n",
            "model name\t: Intel(R) Xeon(R) CPU @ 2.20GHz\n",
            "stepping\t: 0\n",
            "microcode\t: 0xffffffff\n",
            "cpu MHz\t\t: 2199.998\n",
            "cache size\t: 56320 KB\n",
            "physical id\t: 0\n",
            "siblings\t: 2\n",
            "core id\t\t: 0\n",
            "cpu cores\t: 1\n",
            "apicid\t\t: 0\n",
            "initial apicid\t: 0\n",
            "fpu\t\t: yes\n",
            "fpu_exception\t: yes\n",
            "cpuid level\t: 13\n",
            "wp\t\t: yes\n",
            "flags\t\t: fpu vme de pse tsc msr pae mce cx8 apic sep mtrr pge mca cmov pat pse36 clflush mmx fxsr sse sse2 ss ht syscall nx pdpe1gb rdtscp lm constant_tsc rep_good nopl xtopology nonstop_tsc cpuid tsc_known_freq pni pclmulqdq ssse3 fma cx16 pcid sse4_1 sse4_2 x2apic movbe popcnt aes xsave avx f16c rdrand hypervisor lahf_lm abm 3dnowprefetch invpcid_single ssbd ibrs ibpb stibp fsgsbase tsc_adjust bmi1 hle avx2 smep bmi2 erms invpcid rtm rdseed adx smap xsaveopt arat md_clear arch_capabilities\n",
            "bugs\t\t: cpu_meltdown spectre_v1 spectre_v2 spec_store_bypass l1tf mds swapgs taa mmio_stale_data retbleed\n",
            "bogomips\t: 4399.99\n",
            "clflush size\t: 64\n",
            "cache_alignment\t: 64\n",
            "address sizes\t: 46 bits physical, 48 bits virtual\n",
            "power management:\n",
            "\n",
            "processor\t: 1\n",
            "vendor_id\t: GenuineIntel\n",
            "cpu family\t: 6\n",
            "model\t\t: 79\n",
            "model name\t: Intel(R) Xeon(R) CPU @ 2.20GHz\n",
            "stepping\t: 0\n",
            "microcode\t: 0xffffffff\n",
            "cpu MHz\t\t: 2199.998\n",
            "cache size\t: 56320 KB\n",
            "physical id\t: 0\n",
            "siblings\t: 2\n",
            "core id\t\t: 0\n",
            "cpu cores\t: 1\n",
            "apicid\t\t: 1\n",
            "initial apicid\t: 1\n",
            "fpu\t\t: yes\n",
            "fpu_exception\t: yes\n",
            "cpuid level\t: 13\n",
            "wp\t\t: yes\n",
            "flags\t\t: fpu vme de pse tsc msr pae mce cx8 apic sep mtrr pge mca cmov pat pse36 clflush mmx fxsr sse sse2 ss ht syscall nx pdpe1gb rdtscp lm constant_tsc rep_good nopl xtopology nonstop_tsc cpuid tsc_known_freq pni pclmulqdq ssse3 fma cx16 pcid sse4_1 sse4_2 x2apic movbe popcnt aes xsave avx f16c rdrand hypervisor lahf_lm abm 3dnowprefetch invpcid_single ssbd ibrs ibpb stibp fsgsbase tsc_adjust bmi1 hle avx2 smep bmi2 erms invpcid rtm rdseed adx smap xsaveopt arat md_clear arch_capabilities\n",
            "bugs\t\t: cpu_meltdown spectre_v1 spectre_v2 spec_store_bypass l1tf mds swapgs taa mmio_stale_data retbleed\n",
            "bogomips\t: 4399.99\n",
            "clflush size\t: 64\n",
            "cache_alignment\t: 64\n",
            "address sizes\t: 46 bits physical, 48 bits virtual\n",
            "power management:\n",
            "\n"
          ]
        }
      ],
      "source": [
        "!cat /proc/cpuinfo"
      ]
    },
    {
      "cell_type": "markdown",
      "metadata": {
        "id": "N1ok_-56OjB1"
      },
      "source": [
        "# I Solving the Sum of Two Digits Programming Challenge"
      ]
    },
    {
      "cell_type": "markdown",
      "metadata": {
        "id": "MMY7kmDSO0KM"
      },
      "source": [
        "## C++"
      ]
    },
    {
      "cell_type": "code",
      "execution_count": null,
      "metadata": {
        "colab": {
          "base_uri": "https://localhost:8080/"
        },
        "id": "2pGGf9BkPNIk",
        "outputId": "ab648d37-82ad-41df-dce9-269bcc717c63"
      },
      "outputs": [
        {
          "output_type": "stream",
          "name": "stdout",
          "text": [
            "Writing APlusB.cpp\n"
          ]
        }
      ],
      "source": [
        "%%writefile APlusB.cpp\n",
        "#include <iostream>\n",
        "\n",
        "int sum_of_two_digits(int first_digit, int second_digit) {\n",
        "    return first_digit + second_digit;\n",
        "}\n",
        "\n",
        "int main() {\n",
        "    int a = 0;\n",
        "    int b = 0;\n",
        "    std::cin >> a;\n",
        "    std::cin >> b;\n",
        "    std::cout << sum_of_two_digits(a, b);\n",
        "    return 0;\n",
        "}"
      ]
    },
    {
      "cell_type": "code",
      "execution_count": null,
      "metadata": {
        "colab": {
          "base_uri": "https://localhost:8080/"
        },
        "id": "0G3ZKOYAPXSU",
        "outputId": "c15aaae5-90c3-47bf-b89d-577986c2b014"
      },
      "outputs": [
        {
          "output_type": "stream",
          "name": "stdout",
          "text": [
            "3 4\n",
            "7"
          ]
        }
      ],
      "source": [
        "!g++ APlusB.cpp -o APlusB -std=c++11\n",
        "!./APlusB"
      ]
    },
    {
      "cell_type": "markdown",
      "metadata": {
        "id": "iNkG2HqfTl9c"
      },
      "source": [
        "### Test input output files"
      ]
    },
    {
      "cell_type": "code",
      "execution_count": null,
      "metadata": {
        "colab": {
          "base_uri": "https://localhost:8080/"
        },
        "id": "aTzU2efzMxly",
        "outputId": "1ca82bef-37fa-4ca6-fad5-ff4d3051fa8d"
      },
      "outputs": [
        {
          "output_type": "stream",
          "name": "stdout",
          "text": [
            "Writing input1.txt\n"
          ]
        }
      ],
      "source": [
        "%%writefile input1.txt\n",
        "4 8"
      ]
    },
    {
      "cell_type": "code",
      "execution_count": null,
      "metadata": {
        "colab": {
          "base_uri": "https://localhost:8080/"
        },
        "id": "zBJ0Gc0NQRet",
        "outputId": "83cb34f7-642d-4e78-e130-dde9afbc6f78"
      },
      "outputs": [
        {
          "output_type": "stream",
          "name": "stdout",
          "text": [
            "Writing output1.txt\n"
          ]
        }
      ],
      "source": [
        "%%writefile output1.txt\n",
        "12"
      ]
    },
    {
      "cell_type": "code",
      "execution_count": null,
      "metadata": {
        "colab": {
          "base_uri": "https://localhost:8080/"
        },
        "id": "IjEcIx63PJAN",
        "outputId": "8e0d7959-fdc7-453b-f064-4dc970c03262"
      },
      "outputs": [
        {
          "output_type": "stream",
          "name": "stdout",
          "text": [
            "Writing input2.txt\n"
          ]
        }
      ],
      "source": [
        "%%writefile input2.txt\n",
        "0 9"
      ]
    },
    {
      "cell_type": "code",
      "execution_count": null,
      "metadata": {
        "colab": {
          "base_uri": "https://localhost:8080/"
        },
        "id": "Up9gOrxURTmd",
        "outputId": "00509e36-cd00-43ad-dc25-6228a8349d86"
      },
      "outputs": [
        {
          "output_type": "stream",
          "name": "stdout",
          "text": [
            "Writing output2.txt\n"
          ]
        }
      ],
      "source": [
        "%%writefile output2.txt\n",
        "9"
      ]
    },
    {
      "cell_type": "code",
      "execution_count": null,
      "metadata": {
        "colab": {
          "base_uri": "https://localhost:8080/"
        },
        "id": "PST6G-s-Pwgc",
        "outputId": "5086bb53-56f6-4a35-cb4d-93d3aea67f47"
      },
      "outputs": [
        {
          "output_type": "stream",
          "name": "stdout",
          "text": [
            "/bin/bash: line 1: ./APlusB: No such file or directory\n"
          ]
        }
      ],
      "source": [
        "!./APlusB < input1.txt"
      ]
    },
    {
      "cell_type": "code",
      "execution_count": null,
      "metadata": {
        "colab": {
          "base_uri": "https://localhost:8080/"
        },
        "id": "cKxZOjSlRfIN",
        "outputId": "9448ba67-af0a-4229-8b59-0cbbe9874afd"
      },
      "outputs": [
        {
          "output_type": "stream",
          "name": "stdout",
          "text": [
            "/bin/bash: line 1: ./APlusB: No such file or directory\n"
          ]
        }
      ],
      "source": [
        "!./APlusB < input2.txt"
      ]
    },
    {
      "cell_type": "markdown",
      "metadata": {
        "id": "Qw2TQWCCUwqk"
      },
      "source": [
        "### Comparing files with grep\n",
        "\n",
        "https://askubuntu.com/questions/546796/comparing-two-text-files"
      ]
    },
    {
      "cell_type": "code",
      "execution_count": null,
      "metadata": {
        "id": "WVIaAmMKU4QM"
      },
      "outputs": [],
      "source": [
        "!grep -xvFf output1.txt output1.txt"
      ]
    },
    {
      "cell_type": "code",
      "execution_count": null,
      "metadata": {
        "id": "MQU8gPPjQuYO",
        "colab": {
          "base_uri": "https://localhost:8080/"
        },
        "outputId": "cc66c404-8e5f-416c-e83a-80f35979b939"
      },
      "outputs": [
        {
          "output_type": "stream",
          "name": "stdout",
          "text": [
            "9\n"
          ]
        }
      ],
      "source": [
        "!grep -xvFf output1.txt output2.txt"
      ]
    },
    {
      "cell_type": "code",
      "execution_count": null,
      "metadata": {
        "colab": {
          "base_uri": "https://localhost:8080/"
        },
        "id": "jYL9OuYBTD_l",
        "outputId": "8b1989a3-3940-4173-ba60-fd1b7886ee3f"
      },
      "outputs": [
        {
          "output_type": "stream",
          "name": "stdout",
          "text": [
            "12\n"
          ]
        }
      ],
      "source": [
        "!grep -xvFf output2.txt output1.txt"
      ]
    },
    {
      "cell_type": "code",
      "execution_count": null,
      "metadata": {
        "id": "Jlja0Xm4TX9M",
        "colab": {
          "base_uri": "https://localhost:8080/"
        },
        "outputId": "bfbc778d-f588-4b0b-935d-1f3979455a26"
      },
      "outputs": [
        {
          "output_type": "stream",
          "name": "stdout",
          "text": [
            "/bin/bash: line 1: ./APlusB: No such file or directory\n"
          ]
        }
      ],
      "source": [
        "!./APlusB < input1.txt> ctest1.txt\n",
        "!grep -xvFf output1.txt ctest1.txt"
      ]
    },
    {
      "cell_type": "code",
      "execution_count": null,
      "metadata": {
        "id": "g9OIUZA_QLCQ",
        "colab": {
          "base_uri": "https://localhost:8080/"
        },
        "outputId": "45ecc024-3e47-4283-aea5-d1f5989ad985"
      },
      "outputs": [
        {
          "output_type": "stream",
          "name": "stdout",
          "text": [
            "/bin/bash: line 1: ./APlusB: No such file or directory\n"
          ]
        }
      ],
      "source": [
        "!./APlusB < input2.txt > ctest2.txt\n",
        "!grep -xvFf output2.txt ctest2.txt"
      ]
    },
    {
      "cell_type": "markdown",
      "metadata": {
        "id": "3BgOaDjUVJk6"
      },
      "source": [
        "## Python"
      ]
    },
    {
      "cell_type": "code",
      "execution_count": null,
      "metadata": {
        "colab": {
          "base_uri": "https://localhost:8080/"
        },
        "id": "DBvl-T0CTN_8",
        "outputId": "0052e162-caf8-4aff-d03b-06fac4b6b17e"
      },
      "outputs": [
        {
          "output_type": "stream",
          "name": "stdout",
          "text": [
            "Writing sum.py\n"
          ]
        }
      ],
      "source": [
        "%%writefile sum.py\n",
        "# python3\n",
        "\n",
        "def sum_of_two_digits(first_digit, second_digit):\n",
        "    return first_digit + second_digit\n",
        "\n",
        "if __name__ == '__main__':\n",
        "    a, b = map(int, input().split())\n",
        "    print(sum_of_two_digits(a, b))"
      ]
    },
    {
      "cell_type": "code",
      "execution_count": null,
      "metadata": {
        "colab": {
          "base_uri": "https://localhost:8080/"
        },
        "id": "QKoKM11_WGyF",
        "outputId": "f65a0e01-2060-4250-f18c-f9cc5d6c48b2"
      },
      "outputs": [
        {
          "output_type": "stream",
          "name": "stdout",
          "text": [
            "\n",
            "^C\n"
          ]
        }
      ],
      "source": [
        "!python sum.py"
      ]
    },
    {
      "cell_type": "code",
      "execution_count": null,
      "metadata": {
        "id": "cocFbPRTWrqt"
      },
      "outputs": [],
      "source": [
        "!python sum.py  < input1.txt> ptest1.txt\n",
        "!grep -xvFf output1.txt ptest1.txt"
      ]
    },
    {
      "cell_type": "code",
      "execution_count": null,
      "metadata": {
        "id": "MorKTa-XXASN"
      },
      "outputs": [],
      "source": [
        "!python sum.py  < input2.txt> ptest2.txt\n",
        "!grep -xvFf output2.txt ptest2.txt"
      ]
    },
    {
      "cell_type": "markdown",
      "metadata": {
        "id": "uvP-mOubW_5F"
      },
      "source": [
        "# II Solving The Maximum Pairwise Product Programming Challenge in C++"
      ]
    },
    {
      "cell_type": "markdown",
      "metadata": {
        "id": "C12yoFR6Xonl"
      },
      "source": [
        "## C++"
      ]
    },
    {
      "cell_type": "code",
      "source": [
        "%%writefile max_pairwise_product_full.cpp\n",
        "#include <iostream>\n",
        "#include <vector>\n",
        "#include <algorithm>\n",
        "\n",
        "int MaxPairwiseProduct(const std::vector<int>& numbers) {\n",
        "    int max_product = 0;\n",
        "    int aux_product = 0;\n",
        "    int n = numbers.size();\n",
        "\n",
        "    for (int first = 0; first < n; ++first) {\n",
        "        for (int second = 0; second < n; ++second) {\n",
        "          if ( first != second ){\n",
        "                aux_product = numbers[first] * numbers[second];\n",
        "                if (aux_product > max_product)  max_product = aux_product;\n",
        "          }\n",
        "        }\n",
        "    }\n",
        "\n",
        "    return max_product;\n",
        "}\n",
        "\n",
        "int main() {\n",
        "    int n;\n",
        "    std::cin >> n;\n",
        "    std::vector<int> numbers(n);\n",
        "    for (int i = 0; i < n; ++i) {\n",
        "        std::cin >> numbers[i];\n",
        "    }\n",
        "\n",
        "    std::cout << MaxPairwiseProduct(numbers) << \"\\n\";\n",
        "    return 0;\n",
        "}"
      ],
      "metadata": {
        "colab": {
          "base_uri": "https://localhost:8080/"
        },
        "id": "3LpfoGv2Ae81",
        "outputId": "0c31fbc5-5114-4be0-9b89-a67ef432d56c"
      },
      "execution_count": null,
      "outputs": [
        {
          "output_type": "stream",
          "name": "stdout",
          "text": [
            "Writing max_pairwise_product_full.cpp\n"
          ]
        }
      ]
    },
    {
      "cell_type": "code",
      "source": [
        "!g++ max_pairwise_product_full.cpp -o max_pairwise_product_full\n",
        "!./max_pairwise_product_full"
      ],
      "metadata": {
        "id": "PCVo1h6nCF9k",
        "colab": {
          "base_uri": "https://localhost:8080/"
        },
        "outputId": "8beafc2b-86c3-4f49-b961-584f6a288f62"
      },
      "execution_count": null,
      "outputs": [
        {
          "output_type": "stream",
          "name": "stdout",
          "text": [
            "3\n",
            "7 9 8\n",
            "72\n"
          ]
        }
      ]
    },
    {
      "cell_type": "markdown",
      "metadata": {
        "id": "m75IQQPbEHBS"
      },
      "source": [
        "$$n^2 \\ \\text{first != second  comparisons},  n^2 - n \\ \\ \\text{numbers[first] * numbers[second] products},  O(n^2)$$"
      ]
    },
    {
      "cell_type": "markdown",
      "metadata": {
        "id": "e7KhxHGNS3i0"
      },
      "source": [
        "### Test 1: Small numbers"
      ]
    },
    {
      "cell_type": "code",
      "execution_count": 4,
      "metadata": {
        "colab": {
          "base_uri": "https://localhost:8080/"
        },
        "id": "e1mmTzBgShT-",
        "outputId": "dd9a19af-bea9-435f-fa49-2e0a108d0736"
      },
      "outputs": [
        {
          "output_type": "stream",
          "name": "stdout",
          "text": [
            "Writing input1.txt\n"
          ]
        }
      ],
      "source": [
        "%%writefile input1.txt\n",
        "10\n",
        "1 2 3 4 5 6 7 8 9 10"
      ]
    },
    {
      "cell_type": "code",
      "execution_count": null,
      "metadata": {
        "colab": {
          "base_uri": "https://localhost:8080/"
        },
        "id": "vy_uI0x7TCId",
        "outputId": "c68bafd7-22c5-4664-c237-fab733dea03a"
      },
      "outputs": [
        {
          "output_type": "stream",
          "name": "stdout",
          "text": [
            "/bin/bash: line 1: ./max_pairwise_product: No such file or directory\n"
          ]
        }
      ],
      "source": [
        "!./max_pairwise_product < input1.txt"
      ]
    },
    {
      "cell_type": "code",
      "execution_count": null,
      "metadata": {
        "colab": {
          "base_uri": "https://localhost:8080/"
        },
        "id": "xaj6f9bxC6D6",
        "outputId": "a7ec28c5-fe6b-4ea6-ec25-c8f455406977"
      },
      "outputs": [
        {
          "output_type": "stream",
          "name": "stdout",
          "text": [
            "Writing output1.txt\n"
          ]
        }
      ],
      "source": [
        "%%writefile output1.txt\n",
        "90"
      ]
    },
    {
      "cell_type": "code",
      "execution_count": null,
      "metadata": {
        "id": "fYCjAdA_C-wy"
      },
      "outputs": [],
      "source": [
        "!./max_pairwise_product_full< input1.txt > ctest1.txt\n",
        "!grep -xvFf output1.txt ctest1.txt"
      ]
    },
    {
      "cell_type": "code",
      "source": [
        "%%writefile input2.txt\n",
        "10\n",
        "10 9 8 7 6 5 4 3 2 1"
      ],
      "metadata": {
        "colab": {
          "base_uri": "https://localhost:8080/"
        },
        "id": "ZPe40LY14_6f",
        "outputId": "4e7a1383-fb46-43db-af92-a5bd84ad7649"
      },
      "execution_count": null,
      "outputs": [
        {
          "output_type": "stream",
          "name": "stdout",
          "text": [
            "Writing input2.txt\n"
          ]
        }
      ]
    },
    {
      "cell_type": "code",
      "source": [
        "%%writefile output2.txt\n",
        "90"
      ],
      "metadata": {
        "colab": {
          "base_uri": "https://localhost:8080/"
        },
        "id": "xiHmF7HA5Faa",
        "outputId": "7961c737-a545-4ace-8994-d0b16e3a6588"
      },
      "execution_count": null,
      "outputs": [
        {
          "output_type": "stream",
          "name": "stdout",
          "text": [
            "Writing output2.txt\n"
          ]
        }
      ]
    },
    {
      "cell_type": "code",
      "source": [
        "!./max_pairwise_product_full< input2.txt > ctest2.txt\n",
        "!grep -xvFf output2.txt ctest2.txt"
      ],
      "metadata": {
        "id": "jjwc9kwb5t_k",
        "colab": {
          "base_uri": "https://localhost:8080/"
        },
        "outputId": "596b2503-a0dc-425f-b1cb-c130d75d5968"
      },
      "execution_count": null,
      "outputs": [
        {
          "output_type": "stream",
          "name": "stdout",
          "text": [
            "0\n"
          ]
        }
      ]
    },
    {
      "cell_type": "markdown",
      "metadata": {
        "id": "IeZ3kTjpYmR9"
      },
      "source": [
        "### Test 2: largest input numbers 200000 200000 in the input"
      ]
    },
    {
      "cell_type": "code",
      "execution_count": null,
      "metadata": {
        "colab": {
          "base_uri": "https://localhost:8080/"
        },
        "id": "LQNlZqaqYt7U",
        "outputId": "43f88ae2-62f0-4f6c-a469-eef5550b98dc"
      },
      "outputs": [
        {
          "output_type": "stream",
          "name": "stdout",
          "text": [
            "Writing input3.txt\n"
          ]
        }
      ],
      "source": [
        "%%writefile input3.txt\n",
        "6\n",
        "1 3 200000 9 200000 23"
      ]
    },
    {
      "cell_type": "code",
      "execution_count": null,
      "metadata": {
        "colab": {
          "base_uri": "https://localhost:8080/"
        },
        "id": "GjQq7QOUCw-9",
        "outputId": "5d5eac9d-3d7a-46d9-b0ef-d39425c3c29b"
      },
      "outputs": [
        {
          "output_type": "execute_result",
          "data": {
            "text/plain": [
              "40000000000"
            ]
          },
          "metadata": {},
          "execution_count": 28
        }
      ],
      "source": [
        "200000*200000"
      ]
    },
    {
      "cell_type": "code",
      "execution_count": null,
      "metadata": {
        "colab": {
          "base_uri": "https://localhost:8080/"
        },
        "id": "EuS6n3jtDK5C",
        "outputId": "942beae2-d2f9-4d13-8ea8-39898f96df77"
      },
      "outputs": [
        {
          "output_type": "stream",
          "name": "stdout",
          "text": [
            "Writing output3.txt\n"
          ]
        }
      ],
      "source": [
        "%%writefile output3.txt\n",
        "40000000000"
      ]
    },
    {
      "cell_type": "code",
      "execution_count": null,
      "metadata": {
        "colab": {
          "base_uri": "https://localhost:8080/"
        },
        "id": "2Wad2VZUZDxR",
        "outputId": "a0ec1224-cad1-4eee-d5c4-8b1229372a76"
      },
      "outputs": [
        {
          "output_type": "stream",
          "name": "stdout",
          "text": [
            "/bin/bash: line 1: ./max_pairwise_product_full: No such file or directory\n"
          ]
        }
      ],
      "source": [
        "!./max_pairwise_product_full < input3.txt"
      ]
    },
    {
      "cell_type": "code",
      "execution_count": null,
      "metadata": {
        "colab": {
          "base_uri": "https://localhost:8080/"
        },
        "id": "pEvp1ieyDJGq",
        "outputId": "20c19158-3caa-41c5-8181-61cbc2dc78a0"
      },
      "outputs": [
        {
          "output_type": "stream",
          "name": "stdout",
          "text": [
            "/bin/bash: line 1: ./max_pairwise_product_full: No such file or directory\n"
          ]
        }
      ],
      "source": [
        "!./max_pairwise_product_full < input3.txt > ctest3.txt\n",
        "!grep -xvFf output3.txt ctest3.txt"
      ]
    },
    {
      "cell_type": "code",
      "source": [
        "%%writefile run_all_test.sh\n",
        "#!/bin/bash\n",
        "g++ max_pairwise_product_full.cpp -o max_pairwise_product_full\n",
        "for i in {1..3}\n",
        "do\n",
        "    ./max_pairwise_product_full < input$i.txt > ctest$i.txt\n",
        "    grep -xvFf output$i.txt ctest$i.txt\n",
        "done"
      ],
      "metadata": {
        "colab": {
          "base_uri": "https://localhost:8080/"
        },
        "id": "SrtJrKqM-God",
        "outputId": "f2003599-3356-49cf-ca6b-319413ee1e5b"
      },
      "execution_count": null,
      "outputs": [
        {
          "output_type": "stream",
          "name": "stdout",
          "text": [
            "Writing run_all_test.sh\n"
          ]
        }
      ]
    },
    {
      "cell_type": "code",
      "source": [
        "!chmod u+x run_all_test.sh\n",
        "!./run_all_test.sh"
      ],
      "metadata": {
        "colab": {
          "base_uri": "https://localhost:8080/"
        },
        "id": "wGWMHtzS-QnA",
        "outputId": "0d1ec331-6b6e-45a3-fbb8-eb8fa5e184a4"
      },
      "execution_count": null,
      "outputs": [
        {
          "output_type": "stream",
          "name": "stdout",
          "text": [
            "\u001b[01m\u001b[Kcc1plus:\u001b[m\u001b[K \u001b[01;31m\u001b[Kfatal error: \u001b[m\u001b[Kmax_pairwise_product_full.cpp: No such file or directory\n",
            "compilation terminated.\n",
            "./run_all_test.sh: line 5: ./max_pairwise_product_full: No such file or directory\n",
            "./run_all_test.sh: line 5: ./max_pairwise_product_full: No such file or directory\n",
            "./run_all_test.sh: line 5: ./max_pairwise_product_full: No such file or directory\n"
          ]
        }
      ]
    },
    {
      "cell_type": "markdown",
      "metadata": {
        "id": "H2SC0Qt5HCzz"
      },
      "source": [
        "Changing the variables to long long"
      ]
    },
    {
      "cell_type": "code",
      "execution_count": null,
      "metadata": {
        "colab": {
          "base_uri": "https://localhost:8080/"
        },
        "id": "MPcmsxiQZSfE",
        "outputId": "9dcecc46-3d2f-4d5d-eac9-7ab05def6fe7"
      },
      "outputs": [
        {
          "output_type": "stream",
          "name": "stdout",
          "text": [
            "Writing max_pairwise_product_long_full.cpp\n"
          ]
        }
      ],
      "source": [
        "%%writefile max_pairwise_product_long_full.cpp\n",
        "#include <iostream>\n",
        "#include <vector>\n",
        "#include <algorithm>\n",
        "\n",
        "long long MaxPairwiseProduct(const std::vector<int>& numbers) {\n",
        "    long long max_product = 0LL;\n",
        "\t  long long aux_product = 0LL;\n",
        "    int n = numbers.size();\n",
        "\n",
        "    for (int first = 0; first < n; ++first) {\n",
        "        for (int second = 0; second < n; ++second) {\n",
        "          if ( first != second){\n",
        "                aux_product = (long long) numbers[first] * numbers[second];\n",
        "                if (aux_product > max_product)  max_product = aux_product;\n",
        "          }\n",
        "        }\n",
        "    }\n",
        "\n",
        "\n",
        "    return max_product;\n",
        "}\n",
        "\n",
        "int main() {\n",
        "    int n;\n",
        "    std::cin >> n;\n",
        "    std::vector<int> numbers(n);\n",
        "    for (int i = 0; i < n; ++i) {\n",
        "        std::cin >> numbers[i];\n",
        "    }\n",
        "\n",
        "    std::cout << MaxPairwiseProduct(numbers) << \"\\n\";\n",
        "    return 0;\n",
        "}\n"
      ]
    },
    {
      "cell_type": "code",
      "source": [
        "!g++ max_pairwise_product_long_full.cpp -o max_pairwise_product_long_full"
      ],
      "metadata": {
        "id": "W3xQpFXL6wjO"
      },
      "execution_count": null,
      "outputs": []
    },
    {
      "cell_type": "code",
      "source": [
        "!./max_pairwise_product_long_full < input3.txt"
      ],
      "metadata": {
        "colab": {
          "base_uri": "https://localhost:8080/"
        },
        "id": "H5dvN9M3R9sV",
        "outputId": "5454fe4a-1471-4111-b1cc-7f32156ac40c"
      },
      "execution_count": null,
      "outputs": [
        {
          "output_type": "stream",
          "name": "stdout",
          "text": [
            "40000000000\n"
          ]
        }
      ]
    },
    {
      "cell_type": "markdown",
      "source": [
        "### Runing multuple test with a bash shell"
      ],
      "metadata": {
        "id": "gx-sEYdfQ8f8"
      }
    },
    {
      "cell_type": "code",
      "source": [
        "%%writefile run_all_test.sh\n",
        "#!/bin/bash\n",
        "g++ max_pairwise_product_long_full.cpp -o max_pairwise_product_long_full\n",
        "for i in {1..3}\n",
        "do\n",
        "    ./max_pairwise_product_long_full < input$i.txt > ctest$i.txt\n",
        "    grep -xvFf output$i.txt ctest$i.txt\n",
        "done"
      ],
      "metadata": {
        "colab": {
          "base_uri": "https://localhost:8080/"
        },
        "id": "O9qsq2nn7elw",
        "outputId": "269d355f-f4cb-4de0-9c0f-d53ac6553923"
      },
      "execution_count": null,
      "outputs": [
        {
          "output_type": "stream",
          "name": "stdout",
          "text": [
            "Overwriting run_all_test.sh\n"
          ]
        }
      ]
    },
    {
      "cell_type": "code",
      "source": [
        "!chmod u+x run_all_test.sh\n",
        "!./run_all_test.sh"
      ],
      "metadata": {
        "id": "0g5kKVph7xIA",
        "colab": {
          "base_uri": "https://localhost:8080/"
        },
        "outputId": "c6529a6d-fe94-4b69-f118-bc1299295d1c"
      },
      "execution_count": null,
      "outputs": [
        {
          "output_type": "stream",
          "name": "stdout",
          "text": [
            "0\n"
          ]
        }
      ]
    },
    {
      "cell_type": "markdown",
      "metadata": {
        "id": "XPVHkHxH6_7s"
      },
      "source": [
        "### Test 3  stress tests 6 testing cases files input4.txt/output4.txt .. input10.txt/output10.txt\n",
        "\n",
        "---\n",
        "\n"
      ]
    },
    {
      "cell_type": "code",
      "execution_count": null,
      "metadata": {
        "id": "PwqpBmYr69fu",
        "colab": {
          "base_uri": "https://localhost:8080/"
        },
        "outputId": "18dc2bc8-d4c3-4804-82cf-428007b721bf"
      },
      "outputs": [
        {
          "output_type": "stream",
          "name": "stdout",
          "text": [
            "Overwriting input3.txt\n"
          ]
        }
      ],
      "source": [
        "%%writefile input3.txt\n",
        "6\n",
        "1 3000 2000 9 20 23"
      ]
    },
    {
      "cell_type": "code",
      "execution_count": null,
      "metadata": {
        "id": "jBCkMeR6Fw4y",
        "colab": {
          "base_uri": "https://localhost:8080/"
        },
        "outputId": "202821a4-b3dc-45d1-953c-4350f3c1dd5b"
      },
      "outputs": [
        {
          "output_type": "stream",
          "name": "stdout",
          "text": [
            "Writing input4.txt\n"
          ]
        }
      ],
      "source": [
        "%%writefile input4.txt\n",
        "7\n",
        "11 456 789 101112 131415 161718 192021"
      ]
    },
    {
      "cell_type": "code",
      "source": [
        "%%writefile input5.txt\n",
        "5\n",
        "951 753 654 852 379"
      ],
      "metadata": {
        "id": "zED8V8wu-eoM",
        "colab": {
          "base_uri": "https://localhost:8080/"
        },
        "outputId": "f4acd7f6-c778-40c9-fca8-e54c44f2e173"
      },
      "execution_count": null,
      "outputs": [
        {
          "output_type": "stream",
          "name": "stdout",
          "text": [
            "Writing input5.txt\n"
          ]
        }
      ]
    },
    {
      "cell_type": "code",
      "source": [
        "%%writefile input6.txt\n",
        "8\n",
        "900 1000 1100 1050 850 660 780 222"
      ],
      "metadata": {
        "colab": {
          "base_uri": "https://localhost:8080/"
        },
        "id": "9eCsNJ4Ln7Mc",
        "outputId": "470c552b-85f5-483d-8905-efbc2a6cd017"
      },
      "execution_count": null,
      "outputs": [
        {
          "output_type": "stream",
          "name": "stdout",
          "text": [
            "Writing input6.txt\n"
          ]
        }
      ]
    },
    {
      "cell_type": "code",
      "source": [
        "%%writefile input7.txt\n",
        "4\n",
        "741 852 963 684"
      ],
      "metadata": {
        "colab": {
          "base_uri": "https://localhost:8080/"
        },
        "id": "EgX5622hn_WV",
        "outputId": "a1bd22c8-c7ec-44a6-9b72-2ada6d1a83af"
      },
      "execution_count": null,
      "outputs": [
        {
          "output_type": "stream",
          "name": "stdout",
          "text": [
            "Writing input7.txt\n"
          ]
        }
      ]
    },
    {
      "cell_type": "code",
      "source": [
        "%%writefile input8.txt\n",
        "5\n",
        "167 943 381 927 200000"
      ],
      "metadata": {
        "colab": {
          "base_uri": "https://localhost:8080/"
        },
        "id": "7M0wyseRoDjX",
        "outputId": "0798adc9-31fe-46d3-9154-f1d04d68cc2b"
      },
      "execution_count": null,
      "outputs": [
        {
          "output_type": "stream",
          "name": "stdout",
          "text": [
            "Writing input8.txt\n"
          ]
        }
      ]
    },
    {
      "cell_type": "code",
      "source": [
        "%%writefile input9.txt\n",
        "6\n",
        "1 3333 2000 9 2222 23"
      ],
      "metadata": {
        "colab": {
          "base_uri": "https://localhost:8080/"
        },
        "id": "RN6DOpbBoGLJ",
        "outputId": "74d65e9d-8bd1-4d4e-fb56-68b7f95f0446"
      },
      "execution_count": null,
      "outputs": [
        {
          "output_type": "stream",
          "name": "stdout",
          "text": [
            "Writing input9.txt\n"
          ]
        }
      ]
    },
    {
      "cell_type": "code",
      "source": [
        "%%writefile input10.txt\n",
        "6\n",
        "1111 2222 3333 4444 5555 6666"
      ],
      "metadata": {
        "colab": {
          "base_uri": "https://localhost:8080/"
        },
        "id": "0OxOGZ3GoJe3",
        "outputId": "38269f12-b54c-4a13-ac3f-acc6fdad663a"
      },
      "execution_count": null,
      "outputs": [
        {
          "output_type": "stream",
          "name": "stdout",
          "text": [
            "Writing input10.txt\n"
          ]
        }
      ]
    },
    {
      "cell_type": "code",
      "source": [
        "!./max_pairwise_product_long_full < input1.txt\n",
        "!./max_pairwise_product_long_full < input2.txt\n",
        "!./max_pairwise_product_long_full < input3.txt > output3.txt\n",
        "!./max_pairwise_product_long_full < input4.txt > output4.txt\n",
        "!./max_pairwise_product_long_full < input5.txt > output5.txt\n",
        "!./max_pairwise_product_long_full < input6.txt > output6.txt\n",
        "!./max_pairwise_product_long_full < input7.txt > output7.txt\n",
        "!./max_pairwise_product_long_full < input8.txt > output8.txt\n",
        "!./max_pairwise_product_long_full < input9.txt > output9.txt\n",
        "!./max_pairwise_product_long_full < input10.txt > output10.txt"
      ],
      "metadata": {
        "colab": {
          "base_uri": "https://localhost:8080/"
        },
        "id": "RHZMHLbRoOLl",
        "outputId": "79bb2e9a-11a6-4ba0-9b4e-8d36d45f4e69"
      },
      "execution_count": null,
      "outputs": [
        {
          "output_type": "stream",
          "name": "stdout",
          "text": [
            "90\n",
            "0\n"
          ]
        }
      ]
    },
    {
      "cell_type": "markdown",
      "metadata": {
        "id": "9z9yr5QkeyJF"
      },
      "source": [
        "### Test 4  time test  measure the execution time running with the the largest worst cases input11.txt  (200000 increasing numbers) and inoput12.txt (199998 increasing numbers and  200000, 200000 at the end)"
      ]
    },
    {
      "cell_type": "code",
      "source": [
        "# input11.txt 200000 increasing numbers:  1 2 .. 200000\n",
        "\n",
        "%%writefile WriteTest.cpp\n",
        "\n",
        "#include <iostream>\n",
        "#include <fstream>\n",
        "#include <cstdlib>\n",
        "\n",
        "using namespace std;\n",
        "\n",
        "int main() {\n",
        "  // Create and open a text file\n",
        "  ofstream MyFile(\"input11.txt\");\n",
        "\n",
        " MyFile << 200000 <<\"\\n\";  // n\n",
        " for (int i=1; i <200001; i++){\n",
        "     MyFile << i <<\" \";\n",
        " }\n",
        "\n",
        "  // Close the file\n",
        "  MyFile.close();\n",
        "}"
      ],
      "metadata": {
        "colab": {
          "base_uri": "https://localhost:8080/"
        },
        "id": "UmB1ipWM_nSk",
        "outputId": "3acae56b-11e9-4baa-f117-9fe8f548e385"
      },
      "execution_count": 14,
      "outputs": [
        {
          "output_type": "stream",
          "name": "stdout",
          "text": [
            "Overwriting WriteTest.cpp\n"
          ]
        }
      ]
    },
    {
      "cell_type": "code",
      "execution_count": null,
      "metadata": {
        "id": "EH25TkOkZfD9"
      },
      "outputs": [],
      "source": [
        "!g++ WriteTest.cpp -o WriteTest\n",
        "!./WriteTest"
      ]
    },
    {
      "cell_type": "code",
      "source": [
        "199999 * 200000"
      ],
      "metadata": {
        "colab": {
          "base_uri": "https://localhost:8080/"
        },
        "id": "j0mokSOnCCtZ",
        "outputId": "1f8df21d-da9c-4e10-c764-7703243e0aa0"
      },
      "execution_count": null,
      "outputs": [
        {
          "output_type": "execute_result",
          "data": {
            "text/plain": [
              "39999800000"
            ]
          },
          "metadata": {},
          "execution_count": 54
        }
      ]
    },
    {
      "cell_type": "code",
      "source": [
        "%%writefile output11.txt\n",
        "39999800000"
      ],
      "metadata": {
        "id": "VoDhDV73B5Mo",
        "colab": {
          "base_uri": "https://localhost:8080/"
        },
        "outputId": "2b6cd1b8-2d0e-4857-9245-ae2a1fec630b"
      },
      "execution_count": 12,
      "outputs": [
        {
          "output_type": "stream",
          "name": "stdout",
          "text": [
            "Writing output11.txt\n"
          ]
        }
      ]
    },
    {
      "cell_type": "code",
      "execution_count": 15,
      "metadata": {
        "colab": {
          "base_uri": "https://localhost:8080/"
        },
        "id": "oLiMjbAIfPlX",
        "outputId": "72729ae5-73d3-42ac-c776-ec38b074b303"
      },
      "outputs": [
        {
          "output_type": "stream",
          "name": "stdout",
          "text": [
            "Overwriting WriteTest.cpp\n"
          ]
        }
      ],
      "source": [
        "# input12.txt 200000 decreasing numbers and 200000, 199999 ...  2 1\n",
        "\n",
        "%%writefile WriteTest.cpp\n",
        "\n",
        "#include <iostream>\n",
        "#include <fstream>\n",
        "#include <cstdlib>\n",
        "\n",
        "using namespace std;\n",
        "\n",
        "int main() {\n",
        "  // Create and open a text file\n",
        "  ofstream MyFile(\"input12.txt\");\n",
        "\n",
        " MyFile << 200000 <<\"\\n\";  // n\n",
        " for (int i=1; i <200001; i++){\n",
        "     MyFile << 200001-i <<\" \";\n",
        " }\n",
        "\n",
        "  // Close the file\n",
        "  MyFile.close();\n",
        "}"
      ]
    },
    {
      "cell_type": "code",
      "source": [
        "!g++ WriteTest.cpp -o WriteTest\n",
        "!./WriteTest"
      ],
      "metadata": {
        "id": "oULNBr_zAd9c"
      },
      "execution_count": null,
      "outputs": []
    },
    {
      "cell_type": "code",
      "source": [
        "%%writefile output12.txt\n",
        "39999800000"
      ],
      "metadata": {
        "colab": {
          "base_uri": "https://localhost:8080/"
        },
        "id": "PQLyocaFB-y4",
        "outputId": "9420075d-aa71-4562-8c75-1e9ea78a06da"
      },
      "execution_count": null,
      "outputs": [
        {
          "output_type": "stream",
          "name": "stdout",
          "text": [
            "Writing output12.txt\n"
          ]
        }
      ]
    },
    {
      "cell_type": "markdown",
      "metadata": {
        "id": "JB6f03qO-lj9"
      },
      "source": [
        "Measure time\n",
        "\n",
        "https://askubuntu.com/questions/53444/how-can-i-measure-the-execution-time-of-a-terminal-process"
      ]
    },
    {
      "cell_type": "code",
      "execution_count": null,
      "metadata": {
        "colab": {
          "base_uri": "https://localhost:8080/"
        },
        "id": "6p2QLEr576zk",
        "outputId": "f1f150b7-17a0-4a7b-9cd4-5f653c9ebc80"
      },
      "outputs": [
        {
          "output_type": "stream",
          "name": "stdout",
          "text": [
            "39999800000\n",
            "\n",
            "real\t4m56.497s\n",
            "user\t4m54.025s\n",
            "sys\t0m0.114s\n"
          ]
        }
      ],
      "source": [
        "!g++ max_pairwise_product_long_full.cpp -o max_pairwise_product_long_full\n",
        "!time ./max_pairwise_product_long_full< input11.txt"
      ]
    },
    {
      "cell_type": "code",
      "source": [
        "!g++ max_pairwise_product_long_full.cpp -o max_pairwise_product_long_full\n",
        "!time ./max_pairwise_product_long_full< input12.txt"
      ],
      "metadata": {
        "colab": {
          "base_uri": "https://localhost:8080/"
        },
        "id": "cnjCyeUdAnZj",
        "outputId": "6fb355e9-d89f-4ff3-a203-d9011da1712d"
      },
      "execution_count": null,
      "outputs": [
        {
          "output_type": "stream",
          "name": "stdout",
          "text": [
            "39999800000\n",
            "\n",
            "real\t4m55.694s\n",
            "user\t4m53.500s\n",
            "sys\t0m0.080s\n"
          ]
        }
      ]
    },
    {
      "cell_type": "markdown",
      "metadata": {
        "id": "FXClpBsUJuXC"
      },
      "source": [
        "##### Calculate the number or and upper bound to the number of instructions executed by the algorithm as a function of n, add in each line a comment with the number of instructions that are executed in that line."
      ]
    },
    {
      "cell_type": "code",
      "execution_count": null,
      "metadata": {
        "colab": {
          "base_uri": "https://localhost:8080/"
        },
        "id": "uG6Mv-Pwlkii",
        "outputId": "0a243da1-111c-4356-91f2-d299a3a624cc"
      },
      "outputs": [
        {
          "output_type": "stream",
          "name": "stdout",
          "text": [
            "Overwriting max_pairwise_product_long_full.cpp\n"
          ]
        }
      ],
      "source": [
        "%%writefile max_pairwise_product_long_full.cpp\n",
        "#include <iostream>\n",
        "#include <vector>\n",
        "#include <algorithm>\n",
        "\n",
        "long long MaxPairwiseProduct(const std::vector<int>& numbers) {              //N inst exec by line executed\n",
        "    long long max_product = 0LL;                                             //1\n",
        "\t  long long aux_product = 0LL;                                             //1\n",
        "    int n = numbers.size();                                                  //1\n",
        "\n",
        "    for (int first = 0; first < n; ++first) {                                //1+2n\n",
        "        for (int second = 0; second < n; ++second) {                         //n + 2n**2\n",
        "          if ( first != second ){                                            //n**2\n",
        "                aux_product = numbers[first] * numbers[second];              //n**2 -n\n",
        "                if (aux_product > max_product)                               //n**2 -n\n",
        "                    max_product = aux_product;                               //[1, n**2/2 - n/2] upper bound\n",
        "          }\n",
        "        }\n",
        "    }\n",
        "\n",
        "                                                                             // --------------\n",
        "    return max_product;                                                      // 4 + n + [5*n**2+1, 11*n**2/2  - n/2]  upper bound\n",
        "}\n",
        "\n",
        "int main() {                                              //N inst exec by line executed\n",
        "    int n;                                                //1\n",
        "    std::cin >> n;                                        //1\n",
        "    std::vector<int> numbers(n);                          //n\n",
        "    for (int i = 0; i < n; ++i) {                         //1 + 2n\n",
        "        std::cin >> numbers[i];                           //n\n",
        "    }\n",
        "\n",
        "    std::cout << MaxPairwiseProduct(numbers) << \"\\n\";     //1 + 1  + 4 + n + [5*n**2+1, 11*n**2/2  - n/2]\n",
        "\n",
        "    return 0;                                             // --------------\n",
        "}                                                         //  9 + 5*n + [5*n**2+1, 11*n**2/2  - n/2]  upper bound\n"
      ]
    },
    {
      "cell_type": "markdown",
      "metadata": {
        "id": "0vTsUg8OwcHs"
      },
      "source": [
        "Count executed intructions in code"
      ]
    },
    {
      "cell_type": "code",
      "execution_count": 40,
      "metadata": {
        "colab": {
          "base_uri": "https://localhost:8080/"
        },
        "id": "CuRKkqQc137V",
        "outputId": "5c77c04b-986d-4b7e-afb3-4160be3342e6"
      },
      "outputs": [
        {
          "output_type": "stream",
          "name": "stdout",
          "text": [
            "Writing max_pairwise_product_long_full_execints.cpp\n"
          ]
        }
      ],
      "source": [
        "%%writefile max_pairwise_product_long_full_execints.cpp\n",
        "#include <iostream>\n",
        "#include <vector>\n",
        "#include <algorithm>\n",
        "\n",
        "long long MaxPairwiseProduct(const std::vector<int>& numbers, long long &execints) {              //N inst exec by line executed\n",
        "\n",
        "    long long max_product = 0LL;                                             //1\n",
        "    execints++;\n",
        "\n",
        "\t  long long aux_product = 0LL;                                             //1\n",
        "    execints++;\n",
        "\n",
        "    int n = numbers.size();                                                  //1\n",
        "    execints++;\n",
        "\n",
        "    execints++;\n",
        "    for (int first = 0; first < n; ++first) {                                //1+2n\n",
        "        execints += 2;\n",
        "\n",
        "        execints++;\n",
        "        for (int second = 0; second < n; ++second) {                         //n + 2n**2\n",
        "          execints += 2;\n",
        "\n",
        "          execints++;\n",
        "          if ( first != second ){                                            //n**2\n",
        "                aux_product = numbers[first] * numbers[second];              //n**2 -n\n",
        "                execints++;\n",
        "\n",
        "                execints++;\n",
        "                if (aux_product > max_product){                               //n**2 -n\n",
        "                    max_product = aux_product;                               //[1,n**2/2 - n/2]  upper bound\n",
        "                    execints++;\n",
        "\n",
        "                }\n",
        "        }\n",
        "      }\n",
        "    }\n",
        "                                                                            // --------------\n",
        "    return max_product;                                                     // 4 + n + [5*n**2+1, 11*n**2/2  - n/2] upper bound\n",
        "}\n",
        "\n",
        "int main() {                                                 //N inst exec by line executed\n",
        "\n",
        "    long long execints =0LL;\n",
        "\n",
        "    int n;                                                   //1\n",
        "    execints++;\n",
        "\n",
        "    std::cin >> n;                                           //1\n",
        "    execints++;\n",
        "\n",
        "    std::vector<int> numbers(n);                             //n\n",
        "    execints += n;\n",
        "\n",
        "    execints++;\n",
        "    for (int i = 0; i < n; ++i) {                            //1 + 2n\n",
        "        execints += 2;\n",
        "\n",
        "        std::cin >> numbers[i];\n",
        "        execints++;                                          //n\n",
        "\n",
        "    }\n",
        "\n",
        "\n",
        "\n",
        "    //std::cout << MaxPairwiseProduct(numbers) << \"\\n\";      //1 + 1  + 4 + n + [5*n**2+1, 11*n**2/2  - n/2] upper bound\n",
        "\n",
        "\n",
        "    execints++;\n",
        "    int M = MaxPairwiseProduct(numbers,execints);\n",
        "\n",
        "    execints++;\n",
        "    std::cout <<\"Number of instructions: \" << execints << \"\\n\";\n",
        "    return 0;                                                // --------------\n",
        "}                                                            // 9 + 5*n + [5*n**2+1, 11*n**2/2  - n/2]"
      ]
    },
    {
      "cell_type": "code",
      "source": [
        "!g++ max_pairwise_product_long_full_execints.cpp -o max_pairwise_product_long_full_execints\n",
        "!./max_pairwise_product_long_full_execints < input1.txt\n",
        "!./max_pairwise_product_long_full_execints < input2.txt\n",
        "!./max_pairwise_product_long_full_execints < input3.txt"
      ],
      "metadata": {
        "colab": {
          "base_uri": "https://localhost:8080/"
        },
        "id": "QygV0C_jrx7N",
        "outputId": "739c042d-13a6-453a-e943-b0ecd2cfdacb"
      },
      "execution_count": null,
      "outputs": [
        {
          "output_type": "stream",
          "name": "stdout",
          "text": [
            "589\n",
            "9\n",
            "221\n"
          ]
        }
      ]
    },
    {
      "cell_type": "markdown",
      "source": [
        "The number of instructions executed by the algooirithm with a list of size $n$ is  \n",
        "\n",
        "$$T (n) = 9 + 5n + \\left[5n^2+1, 11\\frac{n^2}{2}  - \\frac{n}{2}\\right] \\ \\  \\text{upper bound}$$\n",
        "\n",
        "It depends on the size of the lists and  the order of the list.\n",
        "\n",
        "For the input1.txt\n",
        "```\n",
        "10\n",
        "1 2 3 4 5 6 7 8 9 10\n",
        "```\n",
        "$$T = 9 + 5(10) + 5(10)(10) +  9 + 5 + 4 + 3 + 2 + 2 + 2 + 2 + 1 + 0  = 589 $$\n",
        "\n",
        "$$T(10) \\in [560, 604]  $$\n"
      ],
      "metadata": {
        "id": "cUjHtvtdDsmr"
      }
    },
    {
      "cell_type": "code",
      "source": [
        "#The number of times that  max_product = aux_product; in the worst case is less than (n**2 -n)/2 -  upper bound\n",
        "\n",
        "   1  2  3  4  5  6  7  8  9  10\n",
        "1  x  2  3  4  5  6  7  8  9  10         9\n",
        "2  2  x  6  8  10 12 14 16 18 20         5 14\n",
        "3  3  6  x  12 15 18 21 24 27 30         4 18\n",
        "4  4  8  12 x  20 24 28 32 36 40         3 21\n",
        "5  5  10 15 20 x  30 35 40 45 50         2 23\n",
        "6  6  12 18 24 30 x  42 48 54 60         2 25\n",
        "7  7  14 21 28 35 42 x  56 63 70         2 27\n",
        "8  8  18 27 36 45 54 63 72 x  90         1 30\n",
        "10 10 20 30 40 50 60 70 60 90 x          0"
      ],
      "metadata": {
        "id": "K59xQMWiBNFj"
      },
      "execution_count": null,
      "outputs": []
    },
    {
      "cell_type": "code",
      "source": [
        "9 + 5*(10) + 5*(10)*(10) +  9 + 5 + 4 + 3 + 2 + 2 + 2 + 2 + 1 + 0"
      ],
      "metadata": {
        "colab": {
          "base_uri": "https://localhost:8080/"
        },
        "id": "E3O8dzFfEgir",
        "outputId": "0203f5e2-9ea5-401b-c94e-21d7b75c8f2c"
      },
      "execution_count": null,
      "outputs": [
        {
          "output_type": "execute_result",
          "data": {
            "text/plain": [
              "589"
            ]
          },
          "metadata": {},
          "execution_count": 67
        }
      ]
    },
    {
      "cell_type": "code",
      "source": [
        "n = 10\n",
        "print( 9 + 5*n + 5*n**2+1,  9 + 5*n + 11*n**2/2  - n/2)"
      ],
      "metadata": {
        "colab": {
          "base_uri": "https://localhost:8080/"
        },
        "id": "TCpdl5u_Gq1a",
        "outputId": "0805309c-305a-422f-8380-ef5745957be5"
      },
      "execution_count": null,
      "outputs": [
        {
          "output_type": "stream",
          "name": "stdout",
          "text": [
            "560 604.0\n"
          ]
        }
      ]
    },
    {
      "cell_type": "code",
      "execution_count": null,
      "metadata": {
        "colab": {
          "base_uri": "https://localhost:8080/"
        },
        "id": "Kuvm1C05ly2a",
        "outputId": "59d37680-d12c-4f94-9a91-926af2a6afa6"
      },
      "outputs": [
        {
          "output_type": "stream",
          "name": "stdout",
          "text": [
            "589\n"
          ]
        }
      ],
      "source": [
        "!g++ max_pairwise_product_long_full_execints.cpp -o max_pairwise_product_long_full_execints\n",
        "!./max_pairwise_product_long_full_execints < input1.txt"
      ]
    },
    {
      "cell_type": "markdown",
      "source": [
        "\n",
        "For the input2.txt\n",
        "```\n",
        "10\n",
        "10 9 8 7 6 5 4 3 2 1\n",
        "```\n",
        "$$T = 9 + 5*(10) + 5*(10)**2 +  1  = 560 $$"
      ],
      "metadata": {
        "id": "Yr_Lb7CaHfxB"
      }
    },
    {
      "cell_type": "code",
      "source": [
        "9 + 5*(10) + 5*(10)**2 +  1"
      ],
      "metadata": {
        "colab": {
          "base_uri": "https://localhost:8080/"
        },
        "id": "HOdqlwJiZUIp",
        "outputId": "377f253e-348c-4dd3-e3c4-6830b734a044"
      },
      "execution_count": null,
      "outputs": [
        {
          "output_type": "execute_result",
          "data": {
            "text/plain": [
              "560"
            ]
          },
          "metadata": {},
          "execution_count": 70
        }
      ]
    },
    {
      "cell_type": "code",
      "source": [
        "!g++ max_pairwise_product_long_full_execints.cpp -o max_pairwise_product_long_full_execints\n",
        "!./max_pairwise_product_long_full_execints < input4.txt\n",
        "n= 10"
      ],
      "metadata": {
        "id": "_znzLectjFSe",
        "colab": {
          "base_uri": "https://localhost:8080/"
        },
        "outputId": "6da8fc3b-4494-4f62-9a0f-c7d0756d8a47"
      },
      "execution_count": null,
      "outputs": [
        {
          "output_type": "stream",
          "name": "stdout",
          "text": [
            "304\n"
          ]
        }
      ]
    },
    {
      "cell_type": "markdown",
      "metadata": {
        "id": "L_uaamxeAHK7"
      },
      "source": [
        "\n",
        "For the input12.txt\n",
        "```\n",
        "200000\n",
        "200000  199999 ... 2 1\n",
        "```\n",
        "$$T = 9 + 5*(200000) + 5*(200000)**2 +1  = 200001000010 $$\n",
        "\n"
      ]
    },
    {
      "cell_type": "code",
      "source": [
        "9 + 5*(200000) + 5*(200000)**2 +1"
      ],
      "metadata": {
        "colab": {
          "base_uri": "https://localhost:8080/"
        },
        "id": "c7X-ewmeXe-h",
        "outputId": "00bd9c7a-b348-45b8-a980-9c04f76803f6"
      },
      "execution_count": null,
      "outputs": [
        {
          "output_type": "execute_result",
          "data": {
            "text/plain": [
              "200001000010"
            ]
          },
          "metadata": {},
          "execution_count": 72
        }
      ]
    },
    {
      "cell_type": "markdown",
      "metadata": {
        "id": "NXW7QkoBL6xH"
      },
      "source": [
        "Calculate estimated time by instruction and number of instructions by second"
      ]
    },
    {
      "cell_type": "code",
      "source": [
        "!g++ max_pairwise_product_long_full_execints.cpp -o max_pairwise_product_long_full_execints\n",
        "!./max_pairwise_product_long_full_execints < input12.txt\n"
      ],
      "metadata": {
        "colab": {
          "base_uri": "https://localhost:8080/"
        },
        "id": "BMH8mF3EKn2w",
        "outputId": "d4e22d12-eb74-43a8-a9f9-f25f984c04e7"
      },
      "execution_count": null,
      "outputs": [
        {
          "output_type": "stream",
          "name": "stdout",
          "text": [
            "200001000021\n"
          ]
        }
      ]
    },
    {
      "cell_type": "code",
      "execution_count": null,
      "metadata": {
        "colab": {
          "base_uri": "https://localhost:8080/"
        },
        "id": "pKqB3i7dIxnc",
        "outputId": "540e2c70-e982-483a-d84f-6131e81032c9"
      },
      "outputs": [
        {
          "output_type": "execute_result",
          "data": {
            "text/plain": [
              "1.5299923499617505e-09"
            ]
          },
          "metadata": {},
          "execution_count": 74
        }
      ],
      "source": [
        "# Estimated time by instruction\n",
        "\n",
        "306/200001000010\n"
      ]
    },
    {
      "cell_type": "code",
      "execution_count": null,
      "metadata": {
        "colab": {
          "base_uri": "https://localhost:8080/"
        },
        "id": "18N1ouqeMhE1",
        "outputId": "572298db-f4d8-4045-cc7b-69d505664d28"
      },
      "outputs": [
        {
          "output_type": "execute_result",
          "data": {
            "text/plain": [
              "1.5299923499617505e-09"
            ]
          },
          "metadata": {},
          "execution_count": 75
        }
      ],
      "source": [
        "# Estimated number of instructions by second\n",
        "\n",
        "306/200001000010"
      ]
    },
    {
      "cell_type": "markdown",
      "source": [
        "# Estimate the maximun n that can be solved in 1 second\n",
        "\n",
        "$$5n^2 \\times 1.53*10^{-9} s = 1s$$\n",
        "\n",
        "$$ n \\approx 11000$$\n"
      ],
      "metadata": {
        "id": "KyuxejFkL5X_"
      }
    },
    {
      "cell_type": "code",
      "source": [
        "# Verify input13.txt\n",
        "%%writefile WriteTest.cpp\n",
        "\n",
        "#include <iostream>\n",
        "#include <fstream>\n",
        "#include <cstdlib>\n",
        "\n",
        "using namespace std;\n",
        "\n",
        "int main() {\n",
        "  // Create and open a text file\n",
        "  ofstream MyFile(\"input13.txt\");\n",
        "\n",
        " MyFile << 11000 <<\"\\n\";  // n\n",
        " for (int i=1; i <11001; i++){\n",
        "     MyFile << i <<\" \";\n",
        " }\n",
        "\n",
        "  // Close the file\n",
        "  MyFile.close();\n",
        "}"
      ],
      "metadata": {
        "colab": {
          "base_uri": "https://localhost:8080/"
        },
        "id": "WXu5jp-DLTOI",
        "outputId": "a0f23804-3989-4c72-f9f3-1e5747a87f1d"
      },
      "execution_count": null,
      "outputs": [
        {
          "output_type": "stream",
          "name": "stdout",
          "text": [
            "Overwriting WriteTest.cpp\n"
          ]
        }
      ]
    },
    {
      "cell_type": "code",
      "source": [
        "!g++ WriteTest.cpp -o WriteTest\n",
        "!./WriteTest"
      ],
      "metadata": {
        "id": "AQ8N52pUMCeT"
      },
      "execution_count": null,
      "outputs": []
    },
    {
      "cell_type": "code",
      "source": [
        "!g++ max_pairwise_product_long_full.cpp -o max_pairwise_product_long_full\n",
        "!time ./max_pairwise_product_long_full< input13.txt"
      ],
      "metadata": {
        "colab": {
          "base_uri": "https://localhost:8080/"
        },
        "id": "ussuAokfM2du",
        "outputId": "be0837d7-fcae-4398-d90b-44e2024909c9"
      },
      "execution_count": null,
      "outputs": [
        {
          "output_type": "stream",
          "name": "stdout",
          "text": [
            "120989000\n",
            "\n",
            "real\t0m0.871s\n",
            "user\t0m0.862s\n",
            "sys\t0m0.002s\n"
          ]
        }
      ]
    },
    {
      "cell_type": "markdown",
      "metadata": {
        "id": "Tm_AVmt-QQH4"
      },
      "source": [
        "## Python"
      ]
    },
    {
      "cell_type": "code",
      "source": [
        "%%writefile max_pairwise_product_full.py\n",
        "n = int(input())                        #1\n",
        "list = input().split()                  #1\n",
        "list = [int(x) for x in list]           #n\n",
        "\n",
        "maxProduct = 0                          #1\n",
        "auxProduct = 0                          #1\n",
        "for i in range(0,n):                    #1+2n\n",
        "  for j in range(0,n):                #n + 2n**2\n",
        "    if i!=j:                            #n**2\n",
        "      auxProduct = list[i]*list[j]      #n**2 -n\n",
        "    if maxProduct < auxProduct:         #n**2 -n\n",
        "      maxProduct = auxProduct           #[1, n**2/2 - n/2] upper bound\n",
        "\n",
        "                                        # --------------\n",
        "print(maxProduct)                       #5 + 3n + [5*n**2+1, 11*n**2/2  - n/2]  upper bound"
      ],
      "metadata": {
        "colab": {
          "base_uri": "https://localhost:8080/"
        },
        "id": "3umFfwr2PxUU",
        "outputId": "6ffb9b18-ad6f-4cfc-f523-226f34d010b0"
      },
      "execution_count": 20,
      "outputs": [
        {
          "output_type": "stream",
          "name": "stdout",
          "text": [
            "Writing max_pairwise_product_full.py\n"
          ]
        }
      ]
    },
    {
      "cell_type": "markdown",
      "source": [
        "Testing with previous examples"
      ],
      "metadata": {
        "id": "JSmyJAZwR5Ml"
      }
    },
    {
      "cell_type": "code",
      "source": [
        "!chmod +x max_pairwise_product_full_py\n",
        "\n",
        "!python max_pairwise_product_full.py < input3.txt > output3.txt\n",
        "!python max_pairwise_product_full.py < input4.txt > output4.txt\n",
        "!python max_pairwise_product_full.py < input5.txt > output5.txt\n",
        "!python max_pairwise_product_full.py < input6.txt > output6.txt\n",
        "!python max_pairwise_product_full.py < input7.txt > output7.txt\n",
        "!python max_pairwise_product_full.py < input8.txt > output8.txt\n",
        "!python max_pairwise_product_full.py < input9.txt > output9.txt\n",
        "!python max_pairwise_product_full.py < input10.txt > output10.txt"
      ],
      "metadata": {
        "id": "8ZhWwbZMRy79"
      },
      "execution_count": null,
      "outputs": []
    },
    {
      "cell_type": "markdown",
      "source": [
        "Creating a big input"
      ],
      "metadata": {
        "id": "XV2YYn2ZaMa2"
      }
    },
    {
      "cell_type": "code",
      "source": [
        "fileName = \"inputPy.txt\"\n",
        "\n",
        "with open(fileName, \"w\") as file:\n",
        "    file.write(\"20000\"+ \"\\n\")\n",
        "    for i in range(1,20001):\n",
        "        file.write(str(i) + \" \")\n"
      ],
      "metadata": {
        "id": "JYa7aThM1Pev"
      },
      "execution_count": 18,
      "outputs": []
    },
    {
      "cell_type": "markdown",
      "source": [
        "Measuring the time"
      ],
      "metadata": {
        "id": "awqs2q6naWPY"
      }
    },
    {
      "cell_type": "code",
      "source": [
        "import time\n",
        "\n",
        "start_time = time.time()\n",
        "!python max_pairwise_product_full.py < inputPy.txt\n",
        "\n",
        "end_time = time.time()\n",
        "execution_time = end_time - start_time\n",
        "print(f\"Execution time: {execution_time} segs\")\n",
        "print(f\"Execution time: {execution_time/60} min\")"
      ],
      "metadata": {
        "colab": {
          "base_uri": "https://localhost:8080/"
        },
        "id": "05ix0xE0SBnX",
        "outputId": "b44c75a5-1234-4130-bc35-746980cc869e"
      },
      "execution_count": 21,
      "outputs": [
        {
          "output_type": "stream",
          "name": "stdout",
          "text": [
            "399980000\n",
            "Execution time: 137.6328251361847 segs\n",
            "Execution time: 2.2938804189364115 min\n"
          ]
        }
      ]
    },
    {
      "cell_type": "markdown",
      "source": [
        "Program to count the number of steps it takes"
      ],
      "metadata": {
        "id": "fnCMyGHbabmH"
      }
    },
    {
      "cell_type": "code",
      "source": [
        "%%writefile max_pairwise_product_full_count.py\n",
        "op =0\n",
        "n = int(input())                        #1\n",
        "op+=1\n",
        "list = input().split()                  #1\n",
        "op+=1\n",
        "list = [int(x) for x in list]           #n\n",
        "op+=n\n",
        "\n",
        "\n",
        "maxProduct = 0                          #1\n",
        "op+=1\n",
        "auxProduct = 0                          #1\n",
        "op+=1\n",
        "for i in range(0,n):                    #1+2n\n",
        "  op+=1\n",
        "  op+=2\n",
        "  for j in range(0,n):                  #n + 2n**2\n",
        "    op+=2\n",
        "    op+=1\n",
        "    if i!=j:                            #n**2\n",
        "      auxProduct = list[i]*list[j]      #n**2 -n\n",
        "      op+=1\n",
        "      op+=1\n",
        "    if maxProduct < auxProduct:         #n**2 -n\n",
        "      maxProduct = auxProduct           #n * (n - 1) / 3\n",
        "      op+=1\n",
        "\n",
        "                                        # -------------- for worst case\n",
        "print(\"Result: \"+str(maxProduct))\n",
        "print(\"Number of instructions: \"+str(op))                       #5 + 3n + 3n**2 + 2(n**2 -n)+n * (n - 1) / 3"
      ],
      "metadata": {
        "colab": {
          "base_uri": "https://localhost:8080/"
        },
        "id": "UglUfiPOSLpz",
        "outputId": "f230ffd5-dada-4ece-d52e-44917370bf92"
      },
      "execution_count": 37,
      "outputs": [
        {
          "output_type": "stream",
          "name": "stdout",
          "text": [
            "Overwriting max_pairwise_product_full_count.py\n"
          ]
        }
      ]
    },
    {
      "cell_type": "markdown",
      "source": [
        "The number of instructions executed by the algooirithm with a list of size $n$ is  \n",
        "\n",
        "$$T = 5 + 2n +5( n^{2}) +(n (n - 1) / 3)$$\n",
        "\n",
        "It depends on the size of the lists and  the order of the list.\n",
        "\n",
        "For the input1.txt\n",
        "```\n",
        "10\n",
        "1 2 3 4 5 6 7 8 9 10\n",
        "```\n",
        "$$T = 5 + (20) + 5(10)(10) +  90/3= 555$$\n",
        "\n"
      ],
      "metadata": {
        "id": "R65SPqOOUX-6"
      }
    },
    {
      "cell_type": "code",
      "source": [
        "!python max_pairwise_product_full_count.py < input1.txt"
      ],
      "metadata": {
        "colab": {
          "base_uri": "https://localhost:8080/"
        },
        "id": "bFy5F8eEUtMa",
        "outputId": "9f9c1cd5-ea50-451c-f181-a2e808fb1a9f"
      },
      "execution_count": 28,
      "outputs": [
        {
          "output_type": "stream",
          "name": "stdout",
          "text": [
            "554\n"
          ]
        }
      ]
    },
    {
      "cell_type": "markdown",
      "source": [
        "The number of instructions executed by the algooirithm with a list of size $n$\n",
        "It depends on the size of the lists and  the order of the list.\n",
        "\n",
        "For the inputPy.txt\n",
        "\n",
        "$$T = 5 + (60000) + 3(20000)(20000) + 2(20000)(20000)-20000 + 199990/3= 2000106668$$\n",
        "\n"
      ],
      "metadata": {
        "id": "o18xq6FlWMlE"
      }
    },
    {
      "cell_type": "code",
      "source": [
        "!python max_pairwise_product_full_count.py < inputPy.txt"
      ],
      "metadata": {
        "colab": {
          "base_uri": "https://localhost:8080/"
        },
        "id": "fkHnD-jlW3MA",
        "outputId": "b6eadd39-570a-4540-84dd-b5feb2fdb5c2"
      },
      "execution_count": 29,
      "outputs": [
        {
          "output_type": "stream",
          "name": "stdout",
          "text": [
            "2000261148\n"
          ]
        }
      ]
    },
    {
      "cell_type": "markdown",
      "source": [
        "###Calculate estimated time by instruction and number of instructions by second"
      ],
      "metadata": {
        "id": "Pgb--Vted19Y"
      }
    },
    {
      "cell_type": "code",
      "source": [
        "%%time\n",
        "!g++ max_pairwise_product_long_full_execints.cpp -o max_pairwise_product_long_full_execints\n",
        "!./max_pairwise_product_long_full_execints < input1.txt"
      ],
      "metadata": {
        "colab": {
          "base_uri": "https://localhost:8080/"
        },
        "id": "cEnTsjasd3pO",
        "outputId": "936c8449-2a1e-4cd5-ad9b-e9acc1d78bd2"
      },
      "execution_count": 45,
      "outputs": [
        {
          "output_type": "stream",
          "name": "stdout",
          "text": [
            "Number of instructions: 589\n",
            "CPU times: user 19.7 ms, sys: 2.02 ms, total: 21.7 ms\n",
            "Wall time: 916 ms\n"
          ]
        }
      ]
    },
    {
      "cell_type": "code",
      "source": [
        "%%time\n",
        "!python max_pairwise_product_full_count.py < input1.txt"
      ],
      "metadata": {
        "colab": {
          "base_uri": "https://localhost:8080/"
        },
        "id": "0Ykh__tUeWrE",
        "outputId": "813db550-4bb4-4fc6-ba9e-509c8d3e4735"
      },
      "execution_count": 48,
      "outputs": [
        {
          "output_type": "stream",
          "name": "stdout",
          "text": [
            "Result: 90\n",
            "Number of instructions: 554\n",
            "CPU times: user 6.78 ms, sys: 0 ns, total: 6.78 ms\n",
            "Wall time: 107 ms\n"
          ]
        }
      ]
    },
    {
      "cell_type": "code",
      "source": [
        "time_per_ins = 0.0197 / 589\n",
        "instructions_per_second = 1 / time_per_ins\n",
        "print(f\"Time per instruction C++: {time_per_ins}\")\n",
        "print(f\"Instructions per second C++: {instructions_per_second}\")\n",
        "time_per_ins = 0.00646 / 554\n",
        "instructions_per_second = 1 / time_per_ins\n",
        "print(f\"Time per instruction Python: {time_per_ins}\")\n",
        "print(f\"Instructions per second Python: {instructions_per_second}\")"
      ],
      "metadata": {
        "colab": {
          "base_uri": "https://localhost:8080/"
        },
        "id": "EYSsYX8jehL3",
        "outputId": "6481dd73-2d55-430f-b1c2-f73668bfe3b9"
      },
      "execution_count": 47,
      "outputs": [
        {
          "output_type": "stream",
          "name": "stdout",
          "text": [
            "Time per instruction C++: 3.344651952461799e-05\n",
            "Instructions per second C++: 29898.477157360412\n",
            "Time per instruction Python: 1.1660649819494584e-05\n",
            "Instructions per second Python: 85758.51393188855\n"
          ]
        }
      ]
    },
    {
      "cell_type": "markdown",
      "source": [
        "**If we replace T in the previous equations we have:**\n",
        "\n",
        "Max n that c++ program can solve in a second: 74.5\n",
        "\n",
        "Max n that python program can solve in a second: 126.64"
      ],
      "metadata": {
        "id": "Ql5Zfwhii_-m"
      }
    },
    {
      "cell_type": "markdown",
      "metadata": {
        "id": "MKQKSC-vKePK"
      },
      "source": [
        "## Perform the same analysis for an algorithm in C++ and Python that uses\n",
        "$$\\frac{n^2 - n}{2} = O(n^2)\\ \\ \\text{products}$$"
      ]
    },
    {
      "cell_type": "code",
      "execution_count": 10,
      "metadata": {
        "id": "jkkHHoxSK65p",
        "colab": {
          "base_uri": "https://localhost:8080/"
        },
        "outputId": "f7163ee6-8279-40ca-a291-83743c68df34"
      },
      "outputs": [
        {
          "output_type": "stream",
          "name": "stdout",
          "text": [
            "Writing max_pairwise_product.cpp\n"
          ]
        }
      ],
      "source": [
        "%%writefile max_pairwise_product.cpp\n",
        "#include <iostream>\n",
        "#include <vector>\n",
        "#include <algorithm>\n",
        "\n",
        "int MaxPairwiseProduct(const std::vector<int>& numbers) {\n",
        "    int max_product = 0;\n",
        "    int n = numbers.size();\n",
        "\n",
        "    for (int first = 0; first < n; ++first) {\n",
        "        for (int second = first + 1; second < n; ++second) {\n",
        "            max_product = std::max(max_product,\n",
        "                numbers[first] * numbers[second]);\n",
        "        }\n",
        "    }\n",
        "\n",
        "    return max_product;\n",
        "}\n",
        "\n",
        "int main() {\n",
        "    int n;\n",
        "    std::cin >> n;\n",
        "    std::vector<int> numbers(n);\n",
        "    for (int i = 0; i < n; ++i) {\n",
        "        std::cin >> numbers[i];\n",
        "    }\n",
        "\n",
        "    std::cout << MaxPairwiseProduct(numbers) << \"\\n\";\n",
        "    return 0;\n",
        "}"
      ]
    },
    {
      "cell_type": "code",
      "source": [
        "!g++ max_pairwise_product.cpp -o max_pairwise_product\n",
        "!time ./max_pairwise_product< input12.txt"
      ],
      "metadata": {
        "colab": {
          "base_uri": "https://localhost:8080/"
        },
        "id": "Ft1ehK4nOtoE",
        "outputId": "93dd9050-6552-41ff-f55b-c5c264a2fba6"
      },
      "execution_count": 19,
      "outputs": [
        {
          "output_type": "stream",
          "name": "stdout",
          "text": [
            "2147483646\n",
            "\n",
            "real\t3m24.749s\n",
            "user\t3m20.039s\n",
            "sys\t0m0.083s\n"
          ]
        }
      ]
    },
    {
      "cell_type": "code",
      "execution_count": 41,
      "metadata": {
        "id": "sU8-Ote7K8vz",
        "colab": {
          "base_uri": "https://localhost:8080/"
        },
        "outputId": "8bb1c629-6b36-4f3a-a72a-b94fcce074f1"
      },
      "outputs": [
        {
          "output_type": "stream",
          "name": "stdout",
          "text": [
            "Writing max_pairwise_product_long_count.cpp\n"
          ]
        }
      ],
      "source": [
        "%%writefile max_pairwise_product_long_count.cpp\n",
        "#include <iostream>\n",
        "#include <vector>\n",
        "#include <algorithm>\n",
        "\n",
        "long long MaxPairwiseProduct(const std::vector<int>& numbers, long long &execints) {              //N inst exec by line executed\n",
        "    long long max_product = 0LL;                                             //1\n",
        "    execints++;\n",
        "\n",
        "\t  long long aux_product = 0LL;                                             //1\n",
        "    execints++;\n",
        "\n",
        "    int n = numbers.size();                                                  //1\n",
        "    execints++;\n",
        "\n",
        "    for (int first = 0; first < n; ++first) {                                //1+2n\n",
        "        execints+=2;\n",
        "\n",
        "        for (int second = first + 1; second < n; ++second) {                 //n + (n-1)n\n",
        "\n",
        "        execints++;\n",
        "\n",
        "\t\t\t       aux_product =  (long long) numbers[first] * numbers[second];    //(n-1)n/2\n",
        "             execints++;\n",
        "            execints++;\n",
        "            if (max_product < aux_product)  {                                //(n-1)n/2\n",
        "\t\t\t\t        max_product = aux_product;\n",
        "                execints++;                                                  //[0, (n-1)n/2]\n",
        "             }\n",
        "        }\n",
        "    }\n",
        "                                                                             // --------------\n",
        "    return max_product;                                                      // 4 + 3n + [2(n-1)n, 2.5 (n-1)n] upper bound\n",
        "}\n",
        "\n",
        "int main() {                                              //N inst exec by line executed\n",
        "    long long execints =0LL;\n",
        "    int n;                                                //1\n",
        "    execints++;\n",
        "\n",
        "    std::cin >> n;                                        //1\n",
        "    execints++;\n",
        "\n",
        "    std::vector<int> numbers(n);                          //n\n",
        "    execints+=n;\n",
        "\n",
        "    for (int i = 0; i < n; ++i) {                         //1 + 2n\n",
        "        execints+=2;\n",
        "\n",
        "        std::cin >> numbers[i];                           //n\n",
        "        execints++;\n",
        "    }\n",
        "\n",
        "    //std::cout << MaxPairwiseProduct(numbers) << \"\\n\";     //1 + 1  + 4 + 3n + [2(n-1)n, 2.5 (n-1)n]\n",
        "    int M = MaxPairwiseProduct(numbers,execints);\n",
        "\n",
        "    execints++;\n",
        "    std::cout << \"Number of instructions: \" <<execints << \"\\n\";\n",
        "    return 0;                                             // --------------\n",
        "}                                                         // 9 + 7n + [2(n-1)n, 2.5 (n-1)n] upper bound\n"
      ]
    },
    {
      "cell_type": "markdown",
      "source": [
        "The number of instructions executed by the algooirithm with a list of size $n$ is  \n",
        "\n",
        "$$T (n) = 9 + 7n + \\left[2(n-1), 2.5(n-1)n\\right] \\ \\  $$\n",
        "\n",
        "It depends on the size of the lists and  the order of the list.\n",
        "\n",
        "For the input1.txt\n",
        "```\n",
        "10\n",
        "1 2 3 4 5 6 7 8 9 10\n",
        "```\n",
        "\n",
        "$$T(10) \\in [97, 304]  $$\n"
      ],
      "metadata": {
        "id": "u1KvoMZJmSkF"
      }
    },
    {
      "cell_type": "code",
      "execution_count": null,
      "metadata": {
        "id": "5QWT3fneK8nw",
        "colab": {
          "base_uri": "https://localhost:8080/"
        },
        "outputId": "cb9fe9ba-f28f-4c08-ab95-4fb5dfdc2f7a"
      },
      "outputs": [
        {
          "output_type": "stream",
          "name": "stdout",
          "text": [
            "97 304.0\n"
          ]
        }
      ],
      "source": [
        "n = 10\n",
        "print(9 + 7*10+2*(n-1),9 + 7*10+2.5*(n-1)*n)"
      ]
    },
    {
      "cell_type": "code",
      "execution_count": 39,
      "metadata": {
        "id": "mxIVvm1RK8dB",
        "colab": {
          "base_uri": "https://localhost:8080/"
        },
        "outputId": "c32cccbe-3758-414b-d7ca-944f016a11dd"
      },
      "outputs": [
        {
          "output_type": "stream",
          "name": "stdout",
          "text": [
            "Number of instructions: 231\n"
          ]
        }
      ],
      "source": [
        "!g++ max_pairwise_product_long2.cpp -o max_pairwise_product_long2\n",
        "!./max_pairwise_product_long2 < input1.txt"
      ]
    },
    {
      "cell_type": "markdown",
      "source": [
        "### Python"
      ],
      "metadata": {
        "id": "TQaBwb7TOOLH"
      }
    },
    {
      "cell_type": "code",
      "execution_count": 1,
      "metadata": {
        "id": "gRCCcd7IQTKZ",
        "colab": {
          "base_uri": "https://localhost:8080/"
        },
        "outputId": "a52b09e3-74c1-49b8-e856-f11e02d6b18c"
      },
      "outputs": [
        {
          "output_type": "stream",
          "name": "stdout",
          "text": [
            "Writing max_pairwise_product.py\n"
          ]
        }
      ],
      "source": [
        "%%writefile max_pairwise_product.py\n",
        "n = int(input())                        #1\n",
        "list = input().split()                  #1\n",
        "list = [int(x) for x in list]           #n\n",
        "\n",
        "maxProduct = 0                          #1\n",
        "auxProduct = 0                          #1\n",
        "for i in range(0,n):                    #1+2n\n",
        "  for j in range(i+1,n):                #((n**2)-n)/2\n",
        "    if i!=j:                            #((n**2)-n)/2\n",
        "      auxProduct = list[i]*list[j]      #((n**2)-n)/2\n",
        "    if maxProduct < auxProduct:         #((n**2)-n)/2\n",
        "      maxProduct = auxProduct           #[0,((n**2)-n)/2] upper bound\n",
        "\n",
        "                                        # --------------\n",
        "print(maxProduct)                       #5 + n + [5*n**2+1, 11*n**2/2  - n/2]  upper bound"
      ]
    },
    {
      "cell_type": "markdown",
      "source": [
        "Testing our code with previous examples"
      ],
      "metadata": {
        "id": "wgd982wt1QnU"
      }
    },
    {
      "cell_type": "code",
      "execution_count": null,
      "metadata": {
        "id": "kAEAoNZEQTCw"
      },
      "outputs": [],
      "source": [
        "!chmod +x max_pairwise_product_py\n",
        "\n",
        "!python max_pairwise_product.py < input3.txt > output3.txt\n",
        "!python max_pairwise_product.py < input4.txt > output4.txt\n",
        "!python max_pairwise_product.py < input5.txt > output5.txt\n",
        "!python max_pairwise_product.py < input6.txt > output6.txt\n",
        "!python max_pairwise_product.py < input7.txt > output7.txt\n",
        "!python max_pairwise_product.py < input8.txt > output8.txt\n",
        "!python max_pairwise_product.py < input9.txt > output9.txt\n",
        "!python max_pairwise_product.py < input10.txt > output10.txt"
      ]
    },
    {
      "cell_type": "code",
      "source": [
        "import time\n",
        "\n",
        "start_time = time.time()\n",
        "!python max_pairwise_product.py < inputPy.txt\n",
        "\n",
        "end_time = time.time()\n",
        "execution_time = end_time - start_time\n",
        "print(f\"Execution time: {execution_time} segs\")\n",
        "print(f\"Execution time: {execution_time/60} min\")"
      ],
      "metadata": {
        "colab": {
          "base_uri": "https://localhost:8080/"
        },
        "id": "_KhsFM1r4DzQ",
        "outputId": "52c2e567-20d4-4459-f08d-f2ee51894a62"
      },
      "execution_count": 3,
      "outputs": [
        {
          "output_type": "stream",
          "name": "stdout",
          "text": [
            "399980000\n",
            "Execution time: 63.087297677993774 segs\n",
            "Execution time: 1.0514549612998962 min\n"
          ]
        }
      ]
    },
    {
      "cell_type": "markdown",
      "source": [
        "Program to count the number of steps it takes"
      ],
      "metadata": {
        "id": "bzvlXQ_ORo64"
      }
    },
    {
      "cell_type": "code",
      "source": [
        "%%writefile max_pairwise_product_count.py\n",
        "op = 0\n",
        "xd =0\n",
        "n = int(input())                        #1\n",
        "op+=1\n",
        "list = input().split()                  #1\n",
        "op+=1\n",
        "list = [int(x) for x in list]           #n\n",
        "op += n\n",
        "\n",
        "maxProduct = 0                          #1\n",
        "op+=1\n",
        "auxProduct = 0                          #1\n",
        "op+=1\n",
        "for i in range(0,n):                    #1+2n\n",
        "  op+=1\n",
        "  op+=2\n",
        "  for j in range(i+1,n):                #((n**2)-n)/2\n",
        "    op+=1\n",
        "    if i!=j:                            #((n**2)-n)/2\n",
        "      auxProduct = list[i]*list[j]      #((n**2)-n)/2\n",
        "      op+=1\n",
        "      op+=1\n",
        "    op+=1\n",
        "    if maxProduct < auxProduct:         #n * (n - 1) / 2\n",
        "      maxProduct = auxProduct           #n * (n - 1) / 3\n",
        "      op+=1\n",
        "\n",
        "                                        # --------------For worst case\n",
        "print(\"Result: \"+str(maxProduct))\n",
        "print(\"Number of instructions: \"+str(op))                       #5 + 4n +2( n * (n - 1)) + (n * (n - 1) / 3)"
      ],
      "metadata": {
        "colab": {
          "base_uri": "https://localhost:8080/"
        },
        "id": "eSZ-gVLmGAO4",
        "outputId": "d9fef178-dbf8-43cf-c9b6-bcd91689450d"
      },
      "execution_count": 35,
      "outputs": [
        {
          "output_type": "stream",
          "name": "stdout",
          "text": [
            "Overwriting max_pairwise_product_count.py\n"
          ]
        }
      ]
    },
    {
      "cell_type": "markdown",
      "source": [
        "The number of instructions executed by the algooirithm with a list of size $n$ is  \n",
        "\n",
        "$$T = 5 + 4n +2( n(n - 1)) + (n (n - 1) / 3)$$\n",
        "\n",
        "It depends on the size of the lists and  the order of the list.\n",
        "\n",
        "For the input1.txt\n",
        "```\n",
        "10\n",
        "1 2 3 4 5 6 7 8 9 10\n",
        "```\n",
        "$$T = 5 + (40) + 2(10)(9) + (90)/3  = 259$$\n",
        "\n"
      ],
      "metadata": {
        "id": "ItdeBnys70Di"
      }
    },
    {
      "cell_type": "code",
      "source": [
        "!python max_pairwise_product_count.py < input1.txt"
      ],
      "metadata": {
        "colab": {
          "base_uri": "https://localhost:8080/"
        },
        "id": "x6uB8hd_HXxr",
        "outputId": "a5122568-5e48-4cc9-c7b1-17423c5a51fe"
      },
      "execution_count": 6,
      "outputs": [
        {
          "output_type": "stream",
          "name": "stdout",
          "text": [
            "254\n"
          ]
        }
      ]
    },
    {
      "cell_type": "markdown",
      "source": [
        "For a big input"
      ],
      "metadata": {
        "id": "PTeEhcaQMc7C"
      }
    },
    {
      "cell_type": "markdown",
      "source": [
        "The number of instructions executed by the algooirithm with a list of size $n$ is  \n",
        "\n",
        "$$T = 5 + 4n +2( n(n - 1)) + (n (n - 1) / 3)$$\n",
        "\n",
        "It depends on the size of the lists and  the order of the list.\n",
        "\n",
        "For the inputPy.txt with 20000 numbers\n",
        "\n",
        "$$T = 5 + (80000) + 2(20000)(19999) + (199990)/3  = 800106668$$\n",
        "\n"
      ],
      "metadata": {
        "id": "UrfyF8NhMs2o"
      }
    },
    {
      "cell_type": "code",
      "source": [
        "!python max_pairwise_product_count.py < inputPy.txt"
      ],
      "metadata": {
        "colab": {
          "base_uri": "https://localhost:8080/"
        },
        "id": "yaMn0VgJMfx5",
        "outputId": "6fae673f-c36c-42ea-c7cf-a822b4d824d5"
      },
      "execution_count": 7,
      "outputs": [
        {
          "output_type": "stream",
          "name": "stdout",
          "text": [
            "800261148\n"
          ]
        }
      ]
    },
    {
      "cell_type": "markdown",
      "source": [
        "###Calculate estimated time by instruction and number of instructions by second"
      ],
      "metadata": {
        "id": "e0cgkVJUZE2n"
      }
    },
    {
      "cell_type": "code",
      "source": [
        "%%time\n",
        "!g++ max_pairwise_product_long_count.cpp -o max_pairwise_product_long_count\n",
        "!./max_pairwise_product_long_count < input1.txt"
      ],
      "metadata": {
        "colab": {
          "base_uri": "https://localhost:8080/"
        },
        "id": "r26O09mlZcxp",
        "outputId": "4e7f25f5-5f68-4ba9-9879-7813afddece6"
      },
      "execution_count": 43,
      "outputs": [
        {
          "output_type": "stream",
          "name": "stdout",
          "text": [
            "Number of instructions: 231\n",
            "CPU times: user 13.4 ms, sys: 2.93 ms, total: 16.3 ms\n",
            "Wall time: 813 ms\n"
          ]
        }
      ]
    },
    {
      "cell_type": "code",
      "source": [
        "%%time\n",
        "!python max_pairwise_product_count.py < input1.txt"
      ],
      "metadata": {
        "colab": {
          "base_uri": "https://localhost:8080/"
        },
        "id": "1iRLUvKBZ0SP",
        "outputId": "0bbbf750-fe31-4c6b-def2-b80328827a93"
      },
      "execution_count": 55,
      "outputs": [
        {
          "output_type": "stream",
          "name": "stdout",
          "text": [
            "Result: 90\n",
            "Number of instructions: 254\n",
            "CPU times: user 4.9 ms, sys: 1.01 ms, total: 5.91 ms\n",
            "Wall time: 105 ms\n"
          ]
        }
      ]
    },
    {
      "cell_type": "code",
      "source": [
        "time_per_ins = 0.0134 / 231\n",
        "instructions_per_second = 1 / time_per_ins\n",
        "print(f\"Time per instruction C++: {time_per_ins}\")\n",
        "print(f\"Instructions per second C++: {instructions_per_second}\")\n",
        "time_per_ins = 0.0045 / 254\n",
        "instructions_per_second = 1 / time_per_ins\n",
        "print(f\"Time per instruction Python: {time_per_ins}\")\n",
        "print(f\"Instructions per second Python: {instructions_per_second}\")"
      ],
      "metadata": {
        "colab": {
          "base_uri": "https://localhost:8080/"
        },
        "id": "Bp5bFzs7ZMZv",
        "outputId": "c2329355-6cd2-4dd1-ab1a-a1e06efb9f97"
      },
      "execution_count": 51,
      "outputs": [
        {
          "output_type": "stream",
          "name": "stdout",
          "text": [
            "Time per instruction C++: 5.800865800865801e-05\n",
            "Instructions per second C++: 17238.805970149253\n",
            "Time per instruction Python: 1.7716535433070864e-05\n",
            "Instructions per second Python: 56444.44444444445\n"
          ]
        }
      ]
    },
    {
      "cell_type": "markdown",
      "source": [
        "**If we replace T in the previous equations we have:**\n",
        "\n",
        "Max n that c++ program can solve in a second: 82.12\n",
        "\n",
        "Max n that python program can solve in a second: 154.95"
      ],
      "metadata": {
        "id": "jlzLhZysclTS"
      }
    },
    {
      "cell_type": "markdown",
      "metadata": {
        "id": "1Hsbd-uHOb_j"
      },
      "source": [
        "### Sort solution in C++ and Python\n",
        "\n",
        "$$ O(n \\lg n)$$\n",
        "\n",
        "**Which sorting algorithm is used in GCC?**\n",
        "https://stackoverflow.com/questions/7221257/which-sorting-algorithm-is-used-in-gcc\n",
        "\n",
        "* ...  the algorithm is called introsort, a combination between Insertionsort, Quicksort & Heapsort. ...\n",
        "\n",
        "**Introsort**\n",
        "https://en.wikipedia.org/wiki/Introsort\n",
        "\n",
        "Introsort or introspective sort is a hybrid sorting algorithm that provides both fast average performance and (asymptotically) optimal worst-case performance. It begins with quicksort, it switches to heapsort when the recursion depth exceeds a level based on (the logarithm of) the number of elements being sorted and it switches to insertion sort when the number of elements is below some threshold\n",
        "\n",
        "*   Class\tSorting algorithm\n",
        "*   Data structure\tArray\n",
        "*   Worst-case performance\t$O(n \\lg n)$\n",
        "*   Average performance\t$O(n \\lg n)$\n",
        "\n",
        "**Tinsort**\n",
        "https://en.wikipedia.org/wiki/Timsort\n",
        "\n",
        "Timsort is a hybrid, stable sorting algorithm, derived from merge sort and insertion sort, designed to perform well on many kinds of real-world data. It was implemented by Tim Peters in 2002 for use in the Python programming language.\n",
        "\n",
        "*   Class\tSorting algorithm\n",
        "*   Data structure\tArray\n",
        "*   Worst-case performance\t$O(n \\lg n)$\n",
        "*   Best-case performance $O(n)$\n",
        "*   Average performance\t$O(n \\lg n)$\n",
        "*   Worst-case space complexity $O(n)$"
      ]
    },
    {
      "cell_type": "markdown",
      "metadata": {
        "id": "WMUthAXjOb_k"
      },
      "source": [
        "Add in each line a coment with the number of intstrcution that are executed in that line"
      ]
    },
    {
      "cell_type": "code",
      "execution_count": null,
      "metadata": {
        "id": "2-sXOmqFOb_k",
        "colab": {
          "base_uri": "https://localhost:8080/"
        },
        "outputId": "2b4113d2-9405-47d9-e111-c9d7d78a3d95"
      },
      "outputs": [
        {
          "output_type": "stream",
          "name": "stdout",
          "text": [
            "Writing max_pairwise_sort_nlogn.cpp\n"
          ]
        }
      ],
      "source": [
        "%%writefile max_pairwise_sort_nlogn.cpp\n",
        "#include <iostream>\n",
        "#include <vector>\n",
        "#include <algorithm>\n",
        "\n",
        "using namespace std;\n",
        "\n",
        "int main() {\n",
        "    cout << \"C++\" << \"\\n\";\n",
        "    int n;                                     // 1\n",
        "    cin >> n;                                  // 1\n",
        "    vector<int> numbers(n);                    // n\n",
        "\n",
        "    for (int i = 0; i < n; ++i) {              //1 + 2n\n",
        "        cin >> numbers[i];                     // 1\n",
        "    }\n",
        "\n",
        "    sort(numbers.begin(), numbers.end());      // n*long\n",
        "    cout <<  \"Product: \" << numbers[numbers.size() - 1] * numbers[numbers.size() - 2] << \"\\n\"; // 1\n",
        "    return 0;                                  // 1\n",
        "}"
      ]
    },
    {
      "cell_type": "code",
      "source": [
        "%%writefile max_pairwise_sort_nlogn.py\n",
        "print(\"Python 3\")\n",
        "# Read input values\n",
        "n = int(input())              # 1\n",
        "numbers = list(map(int, input().split()))  # n\n",
        "\n",
        "# Sort the list\n",
        "numbers.sort()                # n*log(n)\n",
        "\n",
        "# Calculate the maximum pairwise product\n",
        "result = numbers[-1] * numbers[-2]  # 1\n",
        "\n",
        "# Print the result\n",
        "print(f\"Product: {result}\")"
      ],
      "metadata": {
        "colab": {
          "base_uri": "https://localhost:8080/"
        },
        "id": "S9haeyZjrfeR",
        "outputId": "4cebff17-b715-4bc8-cb36-50693a562921"
      },
      "execution_count": null,
      "outputs": [
        {
          "output_type": "stream",
          "name": "stdout",
          "text": [
            "Writing max_pairwise_sort_nlogn.py\n"
          ]
        }
      ]
    },
    {
      "cell_type": "markdown",
      "metadata": {
        "id": "v8pdV9ABOb_k"
      },
      "source": [
        "Test with inputs 1 and 2\n",
        "\n"
      ]
    },
    {
      "cell_type": "code",
      "execution_count": null,
      "metadata": {
        "id": "kdXAyLG4Ob_k",
        "colab": {
          "base_uri": "https://localhost:8080/"
        },
        "outputId": "71bc740f-004b-40bc-de6c-17b996b4f53b"
      },
      "outputs": [
        {
          "output_type": "stream",
          "name": "stdout",
          "text": [
            "C++\n",
            "Product: 90\n",
            "C++\n",
            "Product: 90\n",
            "Python 3\n",
            "Product: 90\n",
            "Python 3\n",
            "Product: 90\n"
          ]
        }
      ],
      "source": [
        "!g++ max_pairwise_sort_nlogn.cpp -o max_pairwise_sort_nlogn\n",
        "!./max_pairwise_sort_nlogn < input1.txt\n",
        "!./max_pairwise_sort_nlogn < input2.txt\n",
        "!python max_pairwise_sort_nlogn.py < input1.txt\n",
        "!python max_pairwise_sort_nlogn.py < input2.txt"
      ]
    },
    {
      "cell_type": "markdown",
      "metadata": {
        "id": "Sw-5X1q1Ob_k"
      },
      "source": [
        "Test and time it with input 3"
      ]
    },
    {
      "cell_type": "code",
      "execution_count": null,
      "metadata": {
        "id": "ryHJ30WIOb_k",
        "colab": {
          "base_uri": "https://localhost:8080/"
        },
        "outputId": "97ccd020-fa75-4fdd-aef3-60b91ba584b2"
      },
      "outputs": [
        {
          "output_type": "stream",
          "name": "stdout",
          "text": [
            "C++\n",
            "Product: 6000000\n"
          ]
        }
      ],
      "source": [
        "!g++ max_pairwise_sort_nlogn.cpp -o max_pairwise_sort_nlogn\n",
        "!./max_pairwise_sort_nlogn < input3.txt"
      ]
    },
    {
      "cell_type": "markdown",
      "metadata": {
        "id": "oJGdPl1HOb_k"
      },
      "source": [
        "20 stress tests"
      ]
    },
    {
      "cell_type": "code",
      "source": [
        "#CREATE 20 random texts\n",
        "import random\n",
        "\n",
        "for i in range(1,21):\n",
        "    fileName = f\"stress_input_{i}.txt\"\n",
        "\n",
        "    with open(fileName, \"w\") as file:\n",
        "      n = random.randint(3, 40)\n",
        "      file.write(f\"{n}\"+ \"\\n\")\n",
        "      for i in range(1,n):\n",
        "          file.write(str(random.randint(1, 100)) + \" \")\n"
      ],
      "metadata": {
        "id": "qbc2EGGN7hd5"
      },
      "execution_count": null,
      "outputs": []
    },
    {
      "cell_type": "code",
      "source": [
        "!g++ max_pairwise_sort_nlogn.cpp -o max_pairwise_sort_nlogn\n",
        "!./max_pairwise_sort_nlogn < stress_input_1.txt\n",
        "!./max_pairwise_sort_nlogn < stress_input_2.txt\n",
        "!./max_pairwise_sort_nlogn < stress_input_3.txt\n",
        "!./max_pairwise_sort_nlogn < stress_input_4.txt\n",
        "!./max_pairwise_sort_nlogn < stress_input_5.txt\n",
        "!./max_pairwise_sort_nlogn < stress_input_6.txt\n",
        "!./max_pairwise_sort_nlogn < stress_input_7.txt\n",
        "!./max_pairwise_sort_nlogn < stress_input_8.txt\n",
        "!./max_pairwise_sort_nlogn < stress_input_9.txt\n",
        "!./max_pairwise_sort_nlogn < stress_input_10.txt\n",
        "!./max_pairwise_sort_nlogn < stress_input_11.txt\n",
        "!./max_pairwise_sort_nlogn < stress_input_12.txt\n",
        "!./max_pairwise_sort_nlogn < stress_input_13.txt\n",
        "!./max_pairwise_sort_nlogn < stress_input_14.txt\n",
        "!./max_pairwise_sort_nlogn < stress_input_15.txt\n",
        "!./max_pairwise_sort_nlogn < stress_input_16.txt\n",
        "!./max_pairwise_sort_nlogn < stress_input_17.txt\n",
        "!./max_pairwise_sort_nlogn < stress_input_18.txt\n",
        "!./max_pairwise_sort_nlogn < stress_input_19.txt\n",
        "!./max_pairwise_sort_nlogn < stress_input_20.txt\n"
      ],
      "metadata": {
        "colab": {
          "base_uri": "https://localhost:8080/"
        },
        "id": "dp1-W_qPtfpI",
        "outputId": "1159cb39-ba61-4eda-8b16-da7f99c8db34"
      },
      "execution_count": null,
      "outputs": [
        {
          "output_type": "stream",
          "name": "stdout",
          "text": [
            "C++\n",
            "Product: 4380\n",
            "C++\n",
            "Product: 9120\n",
            "C++\n",
            "Product: 8930\n",
            "C++\n",
            "Product: 8742\n",
            "C++\n",
            "Product: 7636\n",
            "C++\n",
            "Product: 9600\n",
            "C++\n",
            "Product: 9702\n",
            "C++\n",
            "Product: 6241\n",
            "C++\n",
            "Product: 8928\n",
            "C++\n",
            "Product: 5850\n",
            "C++\n",
            "Product: 9405\n",
            "C++\n",
            "Product: 9500\n",
            "C++\n",
            "Product: 5100\n",
            "C++\n",
            "Product: 9306\n",
            "C++\n",
            "Product: 7476\n",
            "C++\n",
            "Product: 9120\n",
            "C++\n",
            "Product: 7308\n",
            "C++\n",
            "Product: 9016\n",
            "C++\n",
            "Product: 8613\n",
            "C++\n",
            "Product: 9500\n"
          ]
        }
      ]
    },
    {
      "cell_type": "code",
      "source": [
        "!python max_pairwise_sort_nlogn.py < stress_input_1.txt\n",
        "!python max_pairwise_sort_nlogn.py < stress_input_2.txt\n",
        "!python max_pairwise_sort_nlogn.py < stress_input_3.txt\n",
        "!python max_pairwise_sort_nlogn.py < stress_input_4.txt\n",
        "!python max_pairwise_sort_nlogn.py < stress_input_5.txt\n",
        "!python max_pairwise_sort_nlogn.py < stress_input_6.txt\n",
        "!python max_pairwise_sort_nlogn.py < stress_input_7.txt\n",
        "!python max_pairwise_sort_nlogn.py < stress_input_8.txt\n",
        "!python max_pairwise_sort_nlogn.py < stress_input_9.txt\n",
        "!python max_pairwise_sort_nlogn.py < stress_input_10.txt\n",
        "!python max_pairwise_sort_nlogn.py < stress_input_11.txt\n",
        "!python max_pairwise_sort_nlogn.py < stress_input_12.txt\n",
        "!python max_pairwise_sort_nlogn.py < stress_input_13.txt\n",
        "!python max_pairwise_sort_nlogn.py < stress_input_14.txt\n",
        "!python max_pairwise_sort_nlogn.py < stress_input_15.txt\n",
        "!python max_pairwise_sort_nlogn.py < stress_input_16.txt\n",
        "!python max_pairwise_sort_nlogn.py < stress_input_17.txt\n",
        "!python max_pairwise_sort_nlogn.py < stress_input_18.txt\n",
        "!python max_pairwise_sort_nlogn.py < stress_input_19.txt\n",
        "!python max_pairwise_sort_nlogn.py < stress_input_20.txt"
      ],
      "metadata": {
        "colab": {
          "base_uri": "https://localhost:8080/"
        },
        "id": "JOQFXLbC9HZm",
        "outputId": "71fc91ac-86e7-4bbe-9dfe-9c494fa4ab32"
      },
      "execution_count": null,
      "outputs": [
        {
          "output_type": "stream",
          "name": "stdout",
          "text": [
            "Python 3\n",
            "Product: 4380\n",
            "Python 3\n",
            "Product: 9120\n",
            "Python 3\n",
            "Product: 8930\n",
            "Python 3\n",
            "Product: 8742\n",
            "Python 3\n",
            "Product: 7636\n",
            "Python 3\n",
            "Product: 9600\n",
            "Python 3\n",
            "Product: 9702\n",
            "Python 3\n",
            "Product: 6241\n",
            "Python 3\n",
            "Product: 8928\n",
            "Python 3\n",
            "Product: 5850\n",
            "Python 3\n",
            "Product: 9405\n",
            "Python 3\n",
            "Product: 9500\n",
            "Python 3\n",
            "Product: 5100\n",
            "Python 3\n",
            "Product: 9306\n",
            "Python 3\n",
            "Product: 7476\n",
            "Python 3\n",
            "Product: 9120\n",
            "Python 3\n",
            "Product: 7308\n",
            "Python 3\n",
            "Product: 9016\n",
            "Python 3\n",
            "Product: 8613\n",
            "Python 3\n",
            "Product: 9500\n"
          ]
        }
      ]
    },
    {
      "cell_type": "markdown",
      "metadata": {
        "id": "2beTmWFPOb_k"
      },
      "source": [
        "Count executed instructions in code and verify with inputs 1,2 and 3\n"
      ]
    },
    {
      "cell_type": "code",
      "execution_count": null,
      "metadata": {
        "id": "iuByv4x1Ob_k",
        "colab": {
          "base_uri": "https://localhost:8080/"
        },
        "outputId": "a667498d-e4c4-48b8-bd26-e704b4208740"
      },
      "outputs": [
        {
          "output_type": "stream",
          "name": "stdout",
          "text": [
            "Writing max_pairwise_sort_nlogn_count.cpp\n"
          ]
        }
      ],
      "source": [
        "%%writefile max_pairwise_sort_nlogn_count.cpp\n",
        "#include <iostream>\n",
        "#include <vector>\n",
        "#include <algorithm>\n",
        "#include <bits/stdc++.h>\n",
        "\n",
        "using namespace std;\n",
        "\n",
        "int main() {\n",
        "    cout << \"C++\" << \"\\n\";\n",
        "\n",
        "    uint64_t execints = 0;\n",
        "\n",
        "    int n;                                     // 1\n",
        "    execints++;\n",
        "    cin >> n;                                  // 1\n",
        "    execints++;\n",
        "    vector<int> numbers(n);                    // n\n",
        "    execints += n;\n",
        "\n",
        "    for (int i = 0; i < n; ++i) {              //1 + 2n\n",
        "        execints += 2;\n",
        "        cin >> numbers[i];                     // 1\n",
        "        execints++;\n",
        "    }\n",
        "\n",
        "    sort(numbers.begin(), numbers.end());      // n*long\n",
        "\n",
        "    execints += n * log2(n);\n",
        "\n",
        "    cout <<  numbers[n - 1] * numbers[n - 2] << \"\\n\"; // 3\n",
        "\n",
        "    execints += 3;\n",
        "\n",
        "    cout << \"Executed instructions: \" << execints << \"\\n\";\n",
        "\n",
        "    return 0;                                  // 1\n",
        "}"
      ]
    },
    {
      "cell_type": "code",
      "source": [
        "%%writefile max_pairwise_sort_nlogn_count.py\n",
        "\n",
        "import math\n",
        "\n",
        "print(\"Python 3\")\n",
        "\n",
        "# Read input values\n",
        "\n",
        "execints = 0\n",
        "n = int(input())              # 1\n",
        "\n",
        "execints += 1\n",
        "numbers = list(map(int, input().split()))  # 4n (n input read + map o(n) + create list + cast to int values)\n",
        "\n",
        "execints += 4 * n\n",
        "\n",
        "# Sort the list\n",
        "numbers.sort()                # n*log(n)\n",
        "\n",
        "execints += math.log2(n)\n",
        "\n",
        "# Calculate the maximum pairwise product\n",
        "result = numbers[-1] * numbers[-2]  # 3\n",
        "\n",
        "execints += 3\n",
        "\n",
        "# Print the result\n",
        "print(f\"Executed instructions: {int(execints)}\")"
      ],
      "metadata": {
        "colab": {
          "base_uri": "https://localhost:8080/"
        },
        "id": "xbcAsy911mBI",
        "outputId": "705ebb0c-b933-4045-e330-35784fb8458f"
      },
      "execution_count": null,
      "outputs": [
        {
          "output_type": "stream",
          "name": "stdout",
          "text": [
            "Overwriting max_pairwise_sort_nlogn_count.py\n"
          ]
        }
      ]
    },
    {
      "cell_type": "code",
      "source": [
        "!g++ max_pairwise_sort_nlogn_count.cpp -o max_pairwise_sort_nlogn_count\n",
        "!./max_pairwise_sort_nlogn_count < input1.txt\n",
        "!./max_pairwise_sort_nlogn_count < input2.txt\n",
        "!./max_pairwise_sort_nlogn_count < input3.txt\n",
        "!python max_pairwise_sort_nlogn_count.py < input1.txt\n",
        "!python max_pairwise_sort_nlogn_count.py < input2.txt\n",
        "!python max_pairwise_sort_nlogn_count.py < input3.txt"
      ],
      "metadata": {
        "colab": {
          "base_uri": "https://localhost:8080/"
        },
        "id": "D_s-BXN5zgMV",
        "outputId": "ae065d47-7c1d-4be5-e460-50179e738721"
      },
      "execution_count": null,
      "outputs": [
        {
          "output_type": "stream",
          "name": "stdout",
          "text": [
            "C++\n",
            "90\n",
            "Executed instructions: 78\n",
            "C++\n",
            "90\n",
            "Executed instructions: 78\n",
            "C++\n",
            "6000000\n",
            "Executed instructions: 44\n",
            "Python 3\n",
            "Executed instructions: 47\n",
            "Python 3\n",
            "Executed instructions: 47\n",
            "Python 3\n",
            "Executed instructions: 30\n"
          ]
        }
      ]
    },
    {
      "cell_type": "markdown",
      "metadata": {
        "id": "x2CXhkwTOb_l"
      },
      "source": [
        "Calculate estimated time by instruction and number of instructions by second"
      ]
    },
    {
      "cell_type": "code",
      "execution_count": null,
      "metadata": {
        "id": "nTjxyTMtOb_l",
        "colab": {
          "base_uri": "https://localhost:8080/"
        },
        "outputId": "46d6255d-2da0-4c4a-a791-5f22773817b2"
      },
      "outputs": [
        {
          "output_type": "stream",
          "name": "stdout",
          "text": [
            "C++\n",
            "90\n",
            "Executed instructions: 78\n",
            "CPU times: user 24.3 ms, sys: 2.12 ms, total: 26.4 ms\n",
            "Wall time: 1.92 s\n"
          ]
        }
      ],
      "source": [
        "%%time\n",
        "!g++ max_pairwise_sort_nlogn_count.cpp -o max_pairwise_sort_nlogn_count\n",
        "!./max_pairwise_sort_nlogn_count < input1.txt"
      ]
    },
    {
      "cell_type": "code",
      "source": [
        "%%time\n",
        "!python max_pairwise_sort_nlogn_count.py < input1.txt"
      ],
      "metadata": {
        "colab": {
          "base_uri": "https://localhost:8080/"
        },
        "id": "APESHrNY6AIp",
        "outputId": "b86a5290-cb11-4755-f5e0-aca18d50f6ab"
      },
      "execution_count": null,
      "outputs": [
        {
          "output_type": "stream",
          "name": "stdout",
          "text": [
            "Python 3\n",
            "Executed instructions: 47\n",
            "CPU times: user 5.14 ms, sys: 1.97 ms, total: 7.11 ms\n",
            "Wall time: 109 ms\n"
          ]
        }
      ]
    },
    {
      "cell_type": "code",
      "source": [
        "time_per_ins = 0.0243 / 78\n",
        "instructions_per_second = 1 / time_per_ins\n",
        "print(f\"Time per instruction C++: {time_per_ins}\")\n",
        "print(f\"Instructions per second C++: {instructions_per_second}\")\n",
        "time_per_ins = 0.00514 / 47\n",
        "instructions_per_second = 1 / time_per_ins\n",
        "print(f\"Time per instruction Python: {time_per_ins}\")\n",
        "print(f\"Instructions per second Python: {instructions_per_second}\")"
      ],
      "metadata": {
        "colab": {
          "base_uri": "https://localhost:8080/"
        },
        "id": "mgqLSRYx40ud",
        "outputId": "6eb8db69-81df-4acd-b733-bc92507fee62"
      },
      "execution_count": null,
      "outputs": [
        {
          "output_type": "stream",
          "name": "stdout",
          "text": [
            "Time per instruction C++: 0.0003115384615384615\n",
            "Instructions per second C++: 3209.8765432098767\n",
            "Time per instruction Python: 0.00010936170212765956\n",
            "Instructions per second Python: 9143.968871595333\n"
          ]
        }
      ]
    },
    {
      "cell_type": "markdown",
      "source": [],
      "metadata": {
        "id": "flpp06SeE_UA"
      }
    },
    {
      "cell_type": "markdown",
      "metadata": {
        "id": "VMKC5duEOQfk"
      },
      "source": [
        "### Efficient solution largest and second-largest in an list, array or vector in C++ and Python\n",
        " $$2.5 n = O(n)$$\n",
        "\n",
        "\n",
        "\n"
      ]
    },
    {
      "cell_type": "markdown",
      "metadata": {
        "id": "nLcKBwbU0QsE"
      },
      "source": [
        "Add in each line a coment with the number of intstrcution that are executed in that line"
      ]
    },
    {
      "cell_type": "code",
      "execution_count": null,
      "metadata": {
        "id": "knls5Fh3NSt_",
        "colab": {
          "base_uri": "https://localhost:8080/"
        },
        "outputId": "e69bd814-b8dc-433a-bbfe-f265fc6aa7f5"
      },
      "outputs": [
        {
          "output_type": "stream",
          "name": "stdout",
          "text": [
            "Overwriting max_pairwise_sort_efficient.cpp\n"
          ]
        }
      ],
      "source": [
        "%%writefile max_pairwise_sort_efficient.cpp\n",
        "#include <iostream>\n",
        "#include <vector>\n",
        "#include <algorithm>\n",
        "#include <limits.h>\n",
        "\n",
        "using namespace std;\n",
        "\n",
        "int main() {\n",
        "    cout << \"--- C++ ---\" << \"\\n\";\n",
        "    int n;                                     // 1\n",
        "    cin >> n;                                  // 1\n",
        "    int maxNumber = INT_MIN;                   // 1\n",
        "    int secondMaxNumber = INT_MIN;             // 1\n",
        "\n",
        "    vector<int> numbers(n);                    // n\n",
        "\n",
        "    for (int i = 0; i < n; ++i) {              // 1 + 2n\n",
        "        cin >> numbers[i];                     // n\n",
        "    }\n",
        "\n",
        "\n",
        "    for (int i = 0; i < n; ++i) {              //1 + 2n\n",
        "        int aux = numbers[i];                           // n\n",
        "\n",
        "        if (aux > maxNumber){                  // n\n",
        "          secondMaxNumber = maxNumber;         // [0, n] in the worst case it would be n times\n",
        "          maxNumber = aux;                     // [0, n] in the worst case it would be n times\n",
        "\n",
        "        } else if (aux > secondMaxNumber) {    // n\n",
        "          secondMaxNumber = aux;               // [0, n] in the worst case it would be n times\n",
        "        }\n",
        "\n",
        "    }\n",
        "\n",
        "    cout <<  \"Product: \" << maxNumber * secondMaxNumber << \"\\n\"; // 1\n",
        "    return 0;                                  // 1\n",
        "}"
      ]
    },
    {
      "cell_type": "code",
      "source": [
        "%%writefile max_pairwise_sort_efficient.py\n",
        "print(\"--- Python ---\")\n",
        "n = int(input())\n",
        "numbers = list(map(int, input().split()))\n",
        "\n",
        "max_number = float(\"-inf\")                   # 1\n",
        "second_max_number = float(\"-inf\")            # 1\n",
        "\n",
        "for num in numbers:                          # 1 + 2n\n",
        "    if num > max_number:                     # n\n",
        "        second_max_number = max_number       # [0, n] in the worst case it would be n times\n",
        "        max_number = num                     # [0, n] in the worst case it would be n times\n",
        "    elif num > second_max_number:            # n\n",
        "        second_max_number = num              # [0, n] in the worst case it would be n times\n",
        "\n",
        "product = max_number * second_max_number     # 1\n",
        "print(f\"Product: {product}\")                 # 1"
      ],
      "metadata": {
        "colab": {
          "base_uri": "https://localhost:8080/"
        },
        "id": "ghPCOA_eJE89",
        "outputId": "74c56e49-7aaa-4d1e-888a-4874186774bd"
      },
      "execution_count": null,
      "outputs": [
        {
          "output_type": "stream",
          "name": "stdout",
          "text": [
            "Overwriting max_pairwise_sort_efficient.py\n"
          ]
        }
      ]
    },
    {
      "cell_type": "markdown",
      "metadata": {
        "id": "-JCijbWxNSii"
      },
      "source": [
        "Test with inputs 1 and 2\n",
        "\n"
      ]
    },
    {
      "cell_type": "code",
      "execution_count": null,
      "metadata": {
        "id": "TrTGAfqlNVXT",
        "colab": {
          "base_uri": "https://localhost:8080/"
        },
        "outputId": "7e334869-3168-491d-f24f-99783b274778"
      },
      "outputs": [
        {
          "output_type": "stream",
          "name": "stdout",
          "text": [
            "--- C++ ---\n",
            "Product: 90\n",
            "--- C++ ---\n",
            "Product: 90\n",
            "--- Python ---\n",
            "Product: 90\n",
            "--- Python ---\n",
            "Product: 90\n"
          ]
        }
      ],
      "source": [
        "!g++ max_pairwise_sort_efficient.cpp -o max_pairwise_sort_efficient\n",
        "!./max_pairwise_sort_efficient < input1.txt\n",
        "!./max_pairwise_sort_efficient < input2.txt\n",
        "! python max_pairwise_sort_efficient.py < input1.txt\n",
        "! python max_pairwise_sort_efficient.py < input2.txt"
      ]
    },
    {
      "cell_type": "markdown",
      "metadata": {
        "id": "PRX51wADNR8b"
      },
      "source": [
        "Test and time it with input 3"
      ]
    },
    {
      "cell_type": "code",
      "execution_count": null,
      "metadata": {
        "id": "v4z7-Is_NRt7",
        "colab": {
          "base_uri": "https://localhost:8080/"
        },
        "outputId": "49589b3f-4942-47d4-ce27-3f8e2dd0bd41"
      },
      "outputs": [
        {
          "output_type": "stream",
          "name": "stdout",
          "text": [
            "--- C++ ---\n",
            "Product: 6000000\n",
            "--- Python ---\n",
            "Product: 6000000\n"
          ]
        }
      ],
      "source": [
        "!g++ max_pairwise_sort_efficient.cpp -o max_pairwise_sort_efficient\n",
        "!./max_pairwise_sort_efficient < input3.txt\n",
        "! python max_pairwise_sort_efficient.py < input3.txt"
      ]
    },
    {
      "cell_type": "markdown",
      "metadata": {
        "id": "rpdfs0_TNZJf"
      },
      "source": [
        "***20*** stress tests"
      ]
    },
    {
      "cell_type": "code",
      "execution_count": null,
      "metadata": {
        "id": "Lu4tYcKzNcTT"
      },
      "outputs": [],
      "source": [
        "#CREATE 20 random texts\n",
        "import random\n",
        "\n",
        "for i in range(1,21):\n",
        "    fileName = f\"stress_input_{i}.txt\"\n",
        "\n",
        "    with open(fileName, \"w\") as file:\n",
        "      n = random.randint(3, 40)\n",
        "      file.write(f\"{n}\"+ \"\\n\")\n",
        "      for i in range(1,n):\n",
        "          file.write(str(random.randint(1, 100)) + \" \")"
      ]
    },
    {
      "cell_type": "code",
      "source": [
        "!g++ max_pairwise_sort_efficient.cpp -o max_pairwise_sort_efficient\n",
        "!./max_pairwise_sort_efficient < stress_input_1.txt\n",
        "!./max_pairwise_sort_efficient < stress_input_2.txt\n",
        "!./max_pairwise_sort_efficient < stress_input_3.txt\n",
        "!./max_pairwise_sort_efficient < stress_input_4.txt\n",
        "!./max_pairwise_sort_efficient < stress_input_5.txt\n",
        "!./max_pairwise_sort_efficient < stress_input_6.txt\n",
        "!./max_pairwise_sort_efficient < stress_input_7.txt\n",
        "!./max_pairwise_sort_efficient < stress_input_8.txt\n",
        "!./max_pairwise_sort_efficient < stress_input_9.txt\n",
        "!./max_pairwise_sort_efficient < stress_input_10.txt\n",
        "!./max_pairwise_sort_efficient < stress_input_11.txt\n",
        "!./max_pairwise_sort_efficient < stress_input_12.txt\n",
        "!./max_pairwise_sort_efficient < stress_input_13.txt\n",
        "!./max_pairwise_sort_efficient < stress_input_14.txt\n",
        "!./max_pairwise_sort_efficient < stress_input_15.txt\n",
        "!./max_pairwise_sort_efficient < stress_input_16.txt\n",
        "!./max_pairwise_sort_efficient < stress_input_17.txt\n",
        "!./max_pairwise_sort_efficient < stress_input_18.txt\n",
        "!./max_pairwise_sort_efficient < stress_input_19.txt\n",
        "!./max_pairwise_sort_efficient < stress_input_20.txt"
      ],
      "metadata": {
        "colab": {
          "base_uri": "https://localhost:8080/"
        },
        "id": "tFqpTmZtM_jO",
        "outputId": "90b69820-109d-4747-cd43-34304a0e03b4"
      },
      "execution_count": null,
      "outputs": [
        {
          "output_type": "stream",
          "name": "stdout",
          "text": [
            "--- C++ ---\n",
            "Product: 8924\n",
            "--- C++ ---\n",
            "Product: 6048\n",
            "--- C++ ---\n",
            "Product: 9207\n",
            "--- C++ ---\n",
            "Product: 9604\n",
            "--- C++ ---\n",
            "Product: 9216\n",
            "--- C++ ---\n",
            "Product: 5369\n",
            "--- C++ ---\n",
            "Product: 9800\n",
            "--- C++ ---\n",
            "Product: 8742\n",
            "--- C++ ---\n",
            "Product: 9700\n",
            "--- C++ ---\n",
            "Product: 6006\n",
            "--- C++ ---\n",
            "Product: 7644\n",
            "--- C++ ---\n",
            "Product: 8928\n",
            "--- C++ ---\n",
            "Product: 8645\n",
            "--- C++ ---\n",
            "Product: 6320\n",
            "--- C++ ---\n",
            "Product: 4331\n",
            "--- C++ ---\n",
            "Product: 9306\n",
            "--- C++ ---\n",
            "Product: 8439\n",
            "--- C++ ---\n",
            "Product: 8170\n",
            "--- C++ ---\n",
            "Product: 9405\n",
            "--- C++ ---\n",
            "Product: 7426\n"
          ]
        }
      ]
    },
    {
      "cell_type": "code",
      "source": [
        "! python max_pairwise_sort_efficient.py < stress_input_1.txt\n",
        "! python max_pairwise_sort_efficient.py < stress_input_2.txt\n",
        "! python max_pairwise_sort_efficient.py < stress_input_3.txt\n",
        "! python max_pairwise_sort_efficient.py < stress_input_4.txt\n",
        "! python max_pairwise_sort_efficient.py < stress_input_5.txt\n",
        "! python max_pairwise_sort_efficient.py < stress_input_6.txt\n",
        "! python max_pairwise_sort_efficient.py < stress_input_7.txt\n",
        "! python max_pairwise_sort_efficient.py < stress_input_8.txt\n",
        "! python max_pairwise_sort_efficient.py < stress_input_9.txt\n",
        "! python max_pairwise_sort_efficient.py < stress_input_10.txt\n",
        "! python max_pairwise_sort_efficient.py < stress_input_11.txt\n",
        "! python max_pairwise_sort_efficient.py < stress_input_12.txt\n",
        "! python max_pairwise_sort_efficient.py < stress_input_13.txt\n",
        "! python max_pairwise_sort_efficient.py < stress_input_14.txt\n",
        "! python max_pairwise_sort_efficient.py < stress_input_15.txt\n",
        "! python max_pairwise_sort_efficient.py < stress_input_16.txt\n",
        "! python max_pairwise_sort_efficient.py < stress_input_17.txt\n",
        "! python max_pairwise_sort_efficient.py < stress_input_18.txt\n",
        "! python max_pairwise_sort_efficient.py < stress_input_19.txt\n",
        "! python max_pairwise_sort_efficient.py < stress_input_20.txt"
      ],
      "metadata": {
        "colab": {
          "base_uri": "https://localhost:8080/"
        },
        "id": "JfxYg4ySNQa7",
        "outputId": "30e2185f-074f-460f-802c-31d5f73b011f"
      },
      "execution_count": null,
      "outputs": [
        {
          "output_type": "stream",
          "name": "stdout",
          "text": [
            "--- Python ---\n",
            "Product: 8924\n",
            "--- Python ---\n",
            "Product: 6048\n",
            "--- Python ---\n",
            "Product: 9207\n",
            "--- Python ---\n",
            "Product: 9604\n",
            "--- Python ---\n",
            "Product: 9216\n",
            "--- Python ---\n",
            "Product: 5369\n",
            "--- Python ---\n",
            "Product: 9800\n",
            "--- Python ---\n",
            "Product: 8742\n",
            "--- Python ---\n",
            "Product: 9700\n",
            "--- Python ---\n",
            "Product: 6006\n",
            "--- Python ---\n",
            "Product: 7644\n",
            "--- Python ---\n",
            "Product: 8928\n",
            "--- Python ---\n",
            "Product: 8645\n",
            "--- Python ---\n",
            "Product: 6320\n",
            "--- Python ---\n",
            "Product: 4331\n",
            "--- Python ---\n",
            "Product: 9306\n",
            "--- Python ---\n",
            "Product: 8439\n",
            "--- Python ---\n",
            "Product: 8170\n",
            "--- Python ---\n",
            "Product: 9405\n",
            "--- Python ---\n",
            "Product: 7426\n"
          ]
        }
      ]
    },
    {
      "cell_type": "markdown",
      "metadata": {
        "id": "L8U4151JNbxk"
      },
      "source": [
        "Count executed instructions in code and verify with inputs 1,2 and 3\n"
      ]
    },
    {
      "cell_type": "code",
      "execution_count": null,
      "metadata": {
        "id": "dh85RM8vNhFz",
        "colab": {
          "base_uri": "https://localhost:8080/"
        },
        "outputId": "6aaf6b81-40cd-408e-8bc4-3eb77edbb99b"
      },
      "outputs": [
        {
          "output_type": "stream",
          "name": "stdout",
          "text": [
            "Overwriting max_pairwise_sort_efficient_count.cpp\n"
          ]
        }
      ],
      "source": [
        "%%writefile max_pairwise_sort_efficient_count.cpp\n",
        "#include <iostream>\n",
        "#include <vector>\n",
        "#include <algorithm>\n",
        "#include <limits.h>\n",
        "\n",
        "using namespace std;\n",
        "\n",
        "int main() {\n",
        "    cout << \"--- C++ ---\" << \"\\n\";\n",
        "    int exexins = 0;\n",
        "    int n;                                     // 1\n",
        "    exexins++;\n",
        "    cin >> n;                                  // 1\n",
        "    exexins++;\n",
        "    int maxNumber = INT_MIN;                   // 1\n",
        "    exexins++;\n",
        "    int secondMaxNumber = INT_MIN;             // 1\n",
        "    exexins++;\n",
        "\n",
        "    vector<int> numbers(n);                    // n\n",
        "\n",
        "    exexins += n;\n",
        "\n",
        "    for (int i = 0; i < n; ++i) {              // 1 + 2n\n",
        "        cin >> numbers[i];                     // n\n",
        "        exexins++;\n",
        "    }\n",
        "\n",
        "\n",
        "    exexins++;\n",
        "    for (int i = 0; i < n; ++i) {              //1 + 2n\n",
        "        exexins += 2;\n",
        "\n",
        "        int aux = numbers[i];                           // n\n",
        "        exexins++;\n",
        "\n",
        "\n",
        "        exexins++; // if\n",
        "        exexins++; // else if\n",
        "        if (aux > maxNumber){                  // n\n",
        "          secondMaxNumber = maxNumber;         // [0, n] in the worst case it would be n times\n",
        "          exexins++;\n",
        "          maxNumber = aux;                     // [0, n] in the worst case it would be n times\n",
        "          exexins++;\n",
        "        } else if (aux > secondMaxNumber) {    // n\n",
        "          secondMaxNumber = aux;               // [0, n] in the worst case it would be n times\n",
        "          exexins++;\n",
        "        }\n",
        "\n",
        "    }\n",
        "\n",
        "    cout <<  \"Executed instructions: \" << exexins << \" n: \"<< n << \" Product: \" << maxNumber * secondMaxNumber << \"\\n\"; // 1\n",
        "    return 0;                                  // 1\n",
        "}"
      ]
    },
    {
      "cell_type": "code",
      "source": [
        "!g++ max_pairwise_sort_efficient_count.cpp -o max_pairwise_sort_efficient_count\n",
        "!./max_pairwise_sort_efficient_count < input1.txt\n",
        "!./max_pairwise_sort_efficient_count < input2.txt\n",
        "!./max_pairwise_sort_efficient_count < input3.txt"
      ],
      "metadata": {
        "colab": {
          "base_uri": "https://localhost:8080/"
        },
        "id": "vMf0yeHLObSB",
        "outputId": "f7e75271-311a-4ddb-ff45-0eba644accb8"
      },
      "execution_count": null,
      "outputs": [
        {
          "output_type": "stream",
          "name": "stdout",
          "text": [
            "--- C++ ---\n",
            "Executed instructions: 95 n: 10 Product: 90\n",
            "--- C++ ---\n",
            "Executed instructions: 78 n: 10 Product: 90\n",
            "--- C++ ---\n",
            "Executed instructions: 52 n: 6 Product: 6000000\n"
          ]
        }
      ]
    },
    {
      "cell_type": "code",
      "source": [
        "%%writefile max_pairwise_sort_efficient_count.py\n",
        "print(\"--- Python ---\")\n",
        "exexins = 0\n",
        "n = int(input())                             # 1\n",
        "exexins += 1\n",
        "numbers = list(map(int, input().split()))    # 4n (n input read + map o(n) + create list + cast to int values)\n",
        "exexins = 4 * n\n",
        "\n",
        "max_number = float(\"-inf\")                   # 1\n",
        "exexins += 1\n",
        "second_max_number = float(\"-inf\")            # 1\n",
        "exexins += 1\n",
        "\n",
        "exexins += 1\n",
        "for num in numbers:                          # 1 + 2n\n",
        "    exexins += 2\n",
        "\n",
        "    exexins += 1 # if\n",
        "    exexins += 1 # elif\n",
        "    if num > max_number:                     # n\n",
        "        second_max_number = max_number       # [0, n] in the worst case it would be n times\n",
        "        exexins += 1\n",
        "        max_number = num                     # [0, n] in the worst case it would be n times\n",
        "        exexins += 1\n",
        "    elif num > second_max_number:            # n\n",
        "        second_max_number = num              # [0, n] in the worst case it would be n times\n",
        "        exexins += 1\n",
        "\n",
        "product = max_number * second_max_number     # 1\n",
        "exexins += 1\n",
        "print(f\"Executed instructions: {exexins} n: {n} Product: {product}\")                 # 1\n"
      ],
      "metadata": {
        "colab": {
          "base_uri": "https://localhost:8080/"
        },
        "id": "7v_YWJR6PMVv",
        "outputId": "e823c434-1567-44ea-a82a-6d451625b82e"
      },
      "execution_count": null,
      "outputs": [
        {
          "output_type": "stream",
          "name": "stdout",
          "text": [
            "Overwriting max_pairwise_sort_efficient_count.py\n"
          ]
        }
      ]
    },
    {
      "cell_type": "code",
      "source": [
        "!python max_pairwise_sort_efficient_count.py < input1.txt\n",
        "!python max_pairwise_sort_efficient_count.py < input2.txt\n",
        "!python max_pairwise_sort_efficient_count.py < input3.txt"
      ],
      "metadata": {
        "colab": {
          "base_uri": "https://localhost:8080/"
        },
        "id": "K9SQsiKaP3hO",
        "outputId": "57b00000-197d-4888-d287-dd3feddfc460"
      },
      "execution_count": null,
      "outputs": [
        {
          "output_type": "stream",
          "name": "stdout",
          "text": [
            "--- Python ---\n",
            "Executed instructions: 104 n: 10 Product: 90\n",
            "--- Python ---\n",
            "Executed instructions: 87 n: 10 Product: 90\n",
            "--- Python ---\n",
            "Executed instructions: 57 n: 6 Product: 6000000\n"
          ]
        }
      ]
    },
    {
      "cell_type": "markdown",
      "metadata": {
        "id": "K6ybgCmpNygr"
      },
      "source": [
        "Calculate estimated time by instruction and number of instructions by second"
      ]
    },
    {
      "cell_type": "code",
      "execution_count": null,
      "metadata": {
        "id": "kwe3G1O3Nz1w",
        "colab": {
          "base_uri": "https://localhost:8080/"
        },
        "outputId": "3a2326f7-be9b-4eaa-8de0-fb806b056d84"
      },
      "outputs": [
        {
          "output_type": "stream",
          "name": "stdout",
          "text": [
            "--- C++ ---\n",
            "Executed instructions: 95 n: 10 Product: 90\n",
            "CPU times: user 11.5 ms, sys: 781 µs, total: 12.3 ms\n",
            "Wall time: 509 ms\n"
          ]
        }
      ],
      "source": [
        "%%time\n",
        "!g++ max_pairwise_sort_efficient_count.cpp -o max_pairwise_sort_efficient_count\n",
        "!./max_pairwise_sort_efficient_count < input1.txt"
      ]
    },
    {
      "cell_type": "code",
      "source": [
        "%%time\n",
        "!python max_pairwise_sort_efficient_count.py < input1.txt"
      ],
      "metadata": {
        "colab": {
          "base_uri": "https://localhost:8080/"
        },
        "id": "5_D5lKqnRH1Y",
        "outputId": "48333c56-375b-41b3-c607-77c09ede7f99"
      },
      "execution_count": null,
      "outputs": [
        {
          "output_type": "stream",
          "name": "stdout",
          "text": [
            "--- Python ---\n",
            "Executed instructions: 104 n: 10 Product: 90\n",
            "CPU times: user 2.9 ms, sys: 1.14 ms, total: 4.05 ms\n",
            "Wall time: 104 ms\n"
          ]
        }
      ]
    },
    {
      "cell_type": "code",
      "source": [
        "time_per_ins = 0.0115 / 85\n",
        "instructions_per_second = 1 / time_per_ins\n",
        "print(f\"Time per instruction C++: {time_per_ins}\")\n",
        "print(f\"Instructions per second C++: {instructions_per_second}\")\n",
        "time_per_ins = 0.0029 / 104\n",
        "instructions_per_second = 1 / time_per_ins\n",
        "print(f\"Time per instruction Python: {time_per_ins}\")\n",
        "print(f\"Instructions per second Python: {instructions_per_second}\")"
      ],
      "metadata": {
        "colab": {
          "base_uri": "https://localhost:8080/"
        },
        "id": "LRVfUSpGRTwd",
        "outputId": "963ee453-5171-4e96-eb4a-c3b96f814c7f"
      },
      "execution_count": null,
      "outputs": [
        {
          "output_type": "stream",
          "name": "stdout",
          "text": [
            "Time per instruction C++: 0.0001352941176470588\n",
            "Instructions per second C++: 7391.304347826088\n",
            "Time per instruction Python: 2.7884615384615383e-05\n",
            "Instructions per second Python: 35862.06896551725\n"
          ]
        }
      ]
    },
    {
      "cell_type": "markdown",
      "metadata": {
        "id": "sUpIWcykOGpT"
      },
      "source": [
        "### Super efficient solution IN C++ AND PYTHON (both)\n",
        "\n",
        "Whitout storing the list in memory, only stpring the largest and second largest and whitout calling a function, add in each line a coment with the number of instructions that are executed in that line\n",
        "\n",
        "in C++ and Python\n",
        " $$2 n = O(n)$$"
      ]
    },
    {
      "cell_type": "code",
      "execution_count": null,
      "metadata": {
        "id": "hBLt_xBQLy8E",
        "colab": {
          "base_uri": "https://localhost:8080/"
        },
        "outputId": "0e7d45da-56f8-4612-fa56-0074db3ad82c"
      },
      "outputs": [
        {
          "output_type": "stream",
          "name": "stdout",
          "text": [
            "Overwriting max_pairwise_sort_super_efficient.cpp\n"
          ]
        }
      ],
      "source": [
        "%%writefile max_pairwise_sort_super_efficient.cpp\n",
        "#include <iostream>\n",
        "#include <vector>\n",
        "#include <algorithm>\n",
        "#include <limits.h>\n",
        "\n",
        "using namespace std;\n",
        "\n",
        "int main() {\n",
        "    cout << \"--- C++ ---\" << \"\\n\";\n",
        "    int n;                                     // 1\n",
        "    cin >> n;                                  // 1\n",
        "    int maxNumber = INT_MIN;                   // 1\n",
        "    int secondMaxNumber = INT_MIN;             // 1\n",
        "\n",
        "\n",
        "    for (int i = 0; i < n; ++i) {              //1 + 2n\n",
        "        int aux = 0;                           // n\n",
        "        cin >> aux;                            // n\n",
        "\n",
        "        if (aux > maxNumber){                  // n\n",
        "          secondMaxNumber = maxNumber;         // [0, n] in the worst case it would be n times\n",
        "          maxNumber = aux;                     // [0, n] in the worst case it would be n times\n",
        "\n",
        "        } else if (aux > secondMaxNumber) {    // n\n",
        "          secondMaxNumber = aux;               // [0, n] in the worst case it would be n times\n",
        "        }\n",
        "\n",
        "    }\n",
        "\n",
        "    cout <<  \"Product: \" << maxNumber * secondMaxNumber << \"\\n\"; // 1\n",
        "    return 0;                                  // 1\n",
        "}"
      ]
    },
    {
      "cell_type": "code",
      "source": [
        "%%writefile max_pairwise_sort_super_efficient.py\n",
        "print(\"--- Python ---\")\n",
        "n = int(input())                            # 1\n",
        "max_number = float(\"-inf\")                  # 1\n",
        "second_max_number = float(\"-inf\")           # 1\n",
        "\n",
        "for num in input().split():                 # 3 + 2n\n",
        "\n",
        "    num = int(num)                          # n\n",
        "\n",
        "    if num > max_number:                    # n\n",
        "        second_max_number = max_number      # [0, n] in the worst case it would be n times\n",
        "        max_number = num                    # [0, n] in the worst case it would be n times\n",
        "    elif num > second_max_number:           # n\n",
        "        second_max_number = num             # [0, n] in the worst case it would be n times\n",
        "\n",
        "print(f\"Product: {max_number * second_max_number}\")"
      ],
      "metadata": {
        "colab": {
          "base_uri": "https://localhost:8080/"
        },
        "id": "rUxTKUJwSl0a",
        "outputId": "7de29ff6-98a8-419a-eb8d-bb19a79ca754"
      },
      "execution_count": null,
      "outputs": [
        {
          "output_type": "stream",
          "name": "stdout",
          "text": [
            "Overwriting max_pairwise_sort_super_efficient.py\n"
          ]
        }
      ]
    },
    {
      "cell_type": "markdown",
      "metadata": {
        "id": "683gc3roHqzb"
      },
      "source": [
        "Test with inputs 1 and 2\n",
        "\n",
        "\n"
      ]
    },
    {
      "cell_type": "code",
      "execution_count": null,
      "metadata": {
        "id": "b7d4LA8OIc2_",
        "colab": {
          "base_uri": "https://localhost:8080/"
        },
        "outputId": "4cedb8a5-33d1-4ea5-c9c4-21a33289cbdb"
      },
      "outputs": [
        {
          "output_type": "stream",
          "name": "stdout",
          "text": [
            "--- C++ ---\n",
            "Product: 90\n",
            "--- C++ ---\n",
            "Product: 90\n",
            "--- Python ---\n",
            "Product: 90\n",
            "--- Python ---\n",
            "Product: 90\n"
          ]
        }
      ],
      "source": [
        "!g++ max_pairwise_sort_super_efficient.cpp -o max_pairwise_sort_super_efficient\n",
        "!./max_pairwise_sort_super_efficient < input1.txt\n",
        "!./max_pairwise_sort_super_efficient < input2.txt\n",
        "!python max_pairwise_sort_super_efficient.py < input1.txt\n",
        "!python max_pairwise_sort_super_efficient.py < input2.txt"
      ]
    },
    {
      "cell_type": "markdown",
      "metadata": {
        "id": "36Ugn1odIeJz"
      },
      "source": [
        "Test and time it with input 3"
      ]
    },
    {
      "cell_type": "code",
      "execution_count": null,
      "metadata": {
        "id": "jDyMbCnxHqSN",
        "colab": {
          "base_uri": "https://localhost:8080/"
        },
        "outputId": "681c5207-0a2a-4da4-f768-14ae69780180"
      },
      "outputs": [
        {
          "output_type": "stream",
          "name": "stdout",
          "text": [
            "--- C++ ---\n",
            "Product: 6000000\n",
            "--- Python ---\n",
            "Product: 6000000\n"
          ]
        }
      ],
      "source": [
        "!g++ max_pairwise_sort_super_efficient.cpp -o max_pairwise_sort_super_efficient\n",
        "!./max_pairwise_sort_super_efficient < input3.txt\n",
        "!python max_pairwise_sort_super_efficient.py < input3.txt"
      ]
    },
    {
      "cell_type": "markdown",
      "metadata": {
        "id": "bhqiKQG6fjKM"
      },
      "source": [
        "20 stress tests"
      ]
    },
    {
      "cell_type": "code",
      "execution_count": null,
      "metadata": {
        "id": "2KsiXKhALzwm"
      },
      "outputs": [],
      "source": [
        "#CREATE 20 random texts\n",
        "import random\n",
        "\n",
        "for i in range(1,21):\n",
        "    fileName = f\"stress_input_{i}.txt\"\n",
        "\n",
        "    with open(fileName, \"w\") as file:\n",
        "      n = random.randint(3, 40)\n",
        "      file.write(f\"{n}\"+ \"\\n\")\n",
        "      for i in range(1,n):\n",
        "          file.write(str(random.randint(1, 100)) + \" \")"
      ]
    },
    {
      "cell_type": "code",
      "source": [
        "!g++ max_pairwise_sort_super_efficient.cpp -o max_pairwise_sort_super_efficient\n",
        "!./max_pairwise_sort_super_efficient < stress_input_1.txt\n",
        "!./max_pairwise_sort_super_efficient < stress_input_2.txt\n",
        "!./max_pairwise_sort_super_efficient < stress_input_3.txt\n",
        "!./max_pairwise_sort_super_efficient < stress_input_4.txt\n",
        "!./max_pairwise_sort_super_efficient < stress_input_5.txt\n",
        "!./max_pairwise_sort_super_efficient < stress_input_6.txt\n",
        "!./max_pairwise_sort_super_efficient < stress_input_7.txt\n",
        "!./max_pairwise_sort_super_efficient < stress_input_8.txt\n",
        "!./max_pairwise_sort_super_efficient < stress_input_9.txt\n",
        "!./max_pairwise_sort_super_efficient < stress_input_10.txt\n",
        "!./max_pairwise_sort_super_efficient < stress_input_11.txt\n",
        "!./max_pairwise_sort_super_efficient < stress_input_12.txt\n",
        "!./max_pairwise_sort_super_efficient < stress_input_13.txt\n",
        "!./max_pairwise_sort_super_efficient < stress_input_14.txt\n",
        "!./max_pairwise_sort_super_efficient < stress_input_15.txt\n",
        "!./max_pairwise_sort_super_efficient < stress_input_16.txt\n",
        "!./max_pairwise_sort_super_efficient < stress_input_17.txt\n",
        "!./max_pairwise_sort_super_efficient < stress_input_18.txt\n",
        "!./max_pairwise_sort_super_efficient < stress_input_19.txt\n",
        "!./max_pairwise_sort_super_efficient < stress_input_20.txt"
      ],
      "metadata": {
        "colab": {
          "base_uri": "https://localhost:8080/"
        },
        "id": "cg1qOdBFay3S",
        "outputId": "aaa9e762-8127-4b45-d183-f49e5f560cc5"
      },
      "execution_count": null,
      "outputs": [
        {
          "output_type": "stream",
          "name": "stdout",
          "text": [
            "--- C++ ---\n",
            "Product: 5950\n",
            "--- C++ ---\n",
            "Product: 8265\n",
            "--- C++ ---\n",
            "Product: 7790\n",
            "--- C++ ---\n",
            "Product: 9408\n",
            "--- C++ ---\n",
            "Product: 8178\n",
            "--- C++ ---\n",
            "Product: 8811\n",
            "--- C++ ---\n",
            "Product: 9702\n",
            "--- C++ ---\n",
            "Product: 8360\n",
            "--- C++ ---\n",
            "Product: 10000\n",
            "--- C++ ---\n",
            "Product: 9800\n",
            "--- C++ ---\n",
            "Product: 5041\n",
            "--- C++ ---\n",
            "Product: 8272\n",
            "--- C++ ---\n",
            "Product: 9603\n",
            "--- C++ ---\n",
            "Product: 8188\n",
            "--- C++ ---\n",
            "Product: 9900\n",
            "--- C++ ---\n",
            "Product: 9604\n",
            "--- C++ ---\n",
            "Product: 8455\n",
            "--- C++ ---\n",
            "Product: 9801\n",
            "--- C++ ---\n",
            "Product: 8372\n",
            "--- C++ ---\n",
            "Product: 8366\n"
          ]
        }
      ]
    },
    {
      "cell_type": "code",
      "source": [
        "!python max_pairwise_sort_super_efficient.py < stress_input_1.txt\n",
        "!python max_pairwise_sort_super_efficient.py < stress_input_2.txt\n",
        "!python max_pairwise_sort_super_efficient.py < stress_input_3.txt\n",
        "!python max_pairwise_sort_super_efficient.py < stress_input_4.txt\n",
        "!python max_pairwise_sort_super_efficient.py < stress_input_5.txt\n",
        "!python max_pairwise_sort_super_efficient.py < stress_input_6.txt\n",
        "!python max_pairwise_sort_super_efficient.py < stress_input_7.txt\n",
        "!python max_pairwise_sort_super_efficient.py < stress_input_8.txt\n",
        "!python max_pairwise_sort_super_efficient.py < stress_input_9.txt\n",
        "!python max_pairwise_sort_super_efficient.py < stress_input_10.txt\n",
        "!python max_pairwise_sort_super_efficient.py < stress_input_11.txt\n",
        "!python max_pairwise_sort_super_efficient.py < stress_input_12.txt\n",
        "!python max_pairwise_sort_super_efficient.py < stress_input_13.txt\n",
        "!python max_pairwise_sort_super_efficient.py < stress_input_14.txt\n",
        "!python max_pairwise_sort_super_efficient.py < stress_input_15.txt\n",
        "!python max_pairwise_sort_super_efficient.py < stress_input_16.txt\n",
        "!python max_pairwise_sort_super_efficient.py < stress_input_17.txt\n",
        "!python max_pairwise_sort_super_efficient.py < stress_input_18.txt\n",
        "!python max_pairwise_sort_super_efficient.py < stress_input_19.txt\n",
        "!python max_pairwise_sort_super_efficient.py < stress_input_20.txt"
      ],
      "metadata": {
        "colab": {
          "base_uri": "https://localhost:8080/"
        },
        "id": "LR5JDCq8bBhz",
        "outputId": "7dda17e7-1180-42b0-a00c-f5ac2d80629d"
      },
      "execution_count": null,
      "outputs": [
        {
          "output_type": "stream",
          "name": "stdout",
          "text": [
            "--- Python ---\n",
            "Product: 5950\n",
            "--- Python ---\n",
            "Product: 8265\n",
            "--- Python ---\n",
            "Product: 7790\n",
            "--- Python ---\n",
            "Product: 9408\n",
            "--- Python ---\n",
            "Product: 8178\n",
            "--- Python ---\n",
            "Product: 8811\n",
            "--- Python ---\n",
            "Product: 9702\n",
            "--- Python ---\n",
            "Product: 8360\n",
            "--- Python ---\n",
            "Product: 7500\n",
            "--- Python ---\n",
            "Product: 9800\n",
            "--- Python ---\n",
            "Product: 3905\n",
            "--- Python ---\n",
            "Product: 8272\n",
            "--- Python ---\n",
            "Product: 9603\n",
            "--- Python ---\n",
            "Product: 8188\n",
            "--- Python ---\n",
            "Product: 9900\n",
            "--- Python ---\n",
            "Product: 9604\n",
            "--- Python ---\n",
            "Product: 8455\n",
            "--- Python ---\n",
            "Product: 9801\n",
            "--- Python ---\n",
            "Product: 8372\n",
            "--- Python ---\n",
            "Product: 8366\n"
          ]
        }
      ]
    },
    {
      "cell_type": "markdown",
      "metadata": {
        "id": "fEXj8GHJH5p1"
      },
      "source": [
        "Count executed instructions in code and verify with inputs 1,2 and 3"
      ]
    },
    {
      "cell_type": "code",
      "execution_count": null,
      "metadata": {
        "id": "LF1DHjKXIAsF",
        "colab": {
          "base_uri": "https://localhost:8080/"
        },
        "outputId": "d4b158fd-b8d5-4009-84b3-6cb4d0e7bef4"
      },
      "outputs": [
        {
          "output_type": "stream",
          "name": "stdout",
          "text": [
            "Writing max_pairwise_sort_super_efficient_count.cpp\n"
          ]
        }
      ],
      "source": [
        "%%writefile max_pairwise_sort_super_efficient_count.cpp\n",
        "#include <iostream>\n",
        "#include <vector>\n",
        "#include <algorithm>\n",
        "#include <limits.h>\n",
        "\n",
        "using namespace std;\n",
        "\n",
        "int main() {\n",
        "    cout << \"--- C++ ---\" << \"\\n\";\n",
        "    int exexins = 0;\n",
        "    int n;                                     // 1\n",
        "    exexins++;\n",
        "    cin >> n;                                  // 1\n",
        "    exexins++;\n",
        "    int maxNumber = INT_MIN;                   // 1\n",
        "    exexins++;\n",
        "    int secondMaxNumber = INT_MIN;             // 1\n",
        "    exexins++;\n",
        "\n",
        "\n",
        "    exexins++;\n",
        "    for (int i = 0; i < n; ++i) {              //1 + 2n\n",
        "        exexins += 2;\n",
        "        int aux = 0;                           // n\n",
        "        exexins++;\n",
        "\n",
        "        cin>> aux;                            // n\n",
        "        exexins++;\n",
        "\n",
        "\n",
        "        exexins++; // if\n",
        "        exexins++; // else if\n",
        "        if (aux > maxNumber){                  // n\n",
        "          secondMaxNumber = maxNumber;         // [0, n] in the worst case it would be n times\n",
        "          exexins++;\n",
        "          maxNumber = aux;                     // [0, n] in the worst case it would be n times\n",
        "          exexins++;\n",
        "        } else if (aux > secondMaxNumber) {    // n\n",
        "          secondMaxNumber = aux;               // [0, n] in the worst case it would be n times\n",
        "          exexins++;\n",
        "        }\n",
        "\n",
        "    }\n",
        "\n",
        "    cout <<  \"Executed instructions: \" << exexins << \" n: \"<< n << \" Product: \" << maxNumber * secondMaxNumber << \"\\n\"; // 1\n",
        "    return 0;                                  // 1\n",
        "}"
      ]
    },
    {
      "cell_type": "code",
      "source": [
        "%%writefile max_pairwise_sort_super_efficient_count.py\n",
        "print(\"--- Python ---\")\n",
        "exexins = 0\n",
        "n = int(input())                            # 1\n",
        "exexins += 1\n",
        "max_number = float(\"-inf\")                  # 1\n",
        "exexins += 1\n",
        "second_max_number = float(\"-inf\")           # 1\n",
        "exexins += 1\n",
        "\n",
        "exexins += 3\n",
        "for num in input().split():                 # 3 + 2n\n",
        "    exexins += 2\n",
        "    num = int(num)                          # n\n",
        "    exexins += 1\n",
        "\n",
        "    exexins += 1 # if\n",
        "    exexins += 1 # elif\n",
        "    if num > max_number:                    # n\n",
        "        second_max_number = max_number      # [0, n] in the worst case it would be n times\n",
        "        exexins += 1\n",
        "        max_number = num                    # [0, n] in the worst case it would be n times\n",
        "        exexins += 1\n",
        "    elif num > second_max_number:           # n\n",
        "        second_max_number = num             # [0, n] in the worst case it would be n times\n",
        "        exexins += 1\n",
        "\n",
        "print(f\"Executed instructions: {exexins} n: {n} Product: {max_number * second_max_number}\")"
      ],
      "metadata": {
        "colab": {
          "base_uri": "https://localhost:8080/"
        },
        "id": "Hv_HouQYb9UX",
        "outputId": "77ab1782-5abd-4635-eba2-2cf8f39af81e"
      },
      "execution_count": null,
      "outputs": [
        {
          "output_type": "stream",
          "name": "stdout",
          "text": [
            "Overwriting max_pairwise_sort_super_efficient_count.py\n"
          ]
        }
      ]
    },
    {
      "cell_type": "code",
      "source": [
        "!g++ max_pairwise_sort_super_efficient_count.cpp -o max_pairwise_sort_super_efficient_count\n",
        "!./max_pairwise_sort_super_efficient_count < input1.txt\n",
        "!./max_pairwise_sort_super_efficient_count < input2.txt\n",
        "!./max_pairwise_sort_super_efficient_count < input3.txt\n",
        "!python max_pairwise_sort_super_efficient_count.py < input1.txt\n",
        "!python max_pairwise_sort_super_efficient_count.py < input2.txt\n",
        "!python max_pairwise_sort_super_efficient_count.py < input3.txt"
      ],
      "metadata": {
        "colab": {
          "base_uri": "https://localhost:8080/"
        },
        "id": "AAFsPmeebdXl",
        "outputId": "093d55e3-11a1-44e2-b8a8-746b039e1655"
      },
      "execution_count": null,
      "outputs": [
        {
          "output_type": "stream",
          "name": "stdout",
          "text": [
            "--- C++ ---\n",
            "Executed instructions: 85 n: 10 Product: 90\n",
            "--- C++ ---\n",
            "Executed instructions: 68 n: 10 Product: 90\n",
            "--- C++ ---\n",
            "Executed instructions: 46 n: 6 Product: 6000000\n",
            "--- Python ---\n",
            "Executed instructions: 76 n: 10 Product: 90\n",
            "--- Python ---\n",
            "Executed instructions: 59 n: 10 Product: 90\n",
            "--- Python ---\n",
            "Executed instructions: 41 n: 6 Product: 6000000\n"
          ]
        }
      ]
    },
    {
      "cell_type": "markdown",
      "metadata": {
        "id": "yae7sSm2IG9U"
      },
      "source": [
        "Calculate estimated time by instruction and number of instructions by second"
      ]
    },
    {
      "cell_type": "code",
      "execution_count": null,
      "metadata": {
        "colab": {
          "base_uri": "https://localhost:8080/"
        },
        "outputId": "29ff669f-4fc1-4e80-ca92-8efbe1b835de",
        "id": "rm1wP6dBdrj2"
      },
      "outputs": [
        {
          "output_type": "stream",
          "name": "stdout",
          "text": [
            "--- C++ ---\n",
            "Executed instructions: 85 n: 10 Product: 90\n",
            "CPU times: user 11 ms, sys: 811 µs, total: 11.8 ms\n",
            "Wall time: 709 ms\n"
          ]
        }
      ],
      "source": [
        "%%time\n",
        "!g++ max_pairwise_sort_super_efficient_count.cpp -o max_pairwise_sort_super_efficient_count\n",
        "!./max_pairwise_sort_super_efficient_count < input1.txt"
      ]
    },
    {
      "cell_type": "code",
      "source": [
        "%%time\n",
        "!python max_pairwise_sort_super_efficient_count.py < input1.txt"
      ],
      "metadata": {
        "colab": {
          "base_uri": "https://localhost:8080/"
        },
        "outputId": "b4054641-2979-4250-a31e-931870cf2568",
        "id": "1lVeXQEZdrj3"
      },
      "execution_count": null,
      "outputs": [
        {
          "output_type": "stream",
          "name": "stdout",
          "text": [
            "--- Python ---\n",
            "Executed instructions: 76 n: 10 Product: 90\n",
            "CPU times: user 3.61 ms, sys: 1.09 ms, total: 4.7 ms\n",
            "Wall time: 104 ms\n"
          ]
        }
      ]
    },
    {
      "cell_type": "code",
      "source": [
        "time_per_ins = 0.011 / 85\n",
        "instructions_per_second = 1 / time_per_ins\n",
        "print(f\"Time per instruction C++: {time_per_ins}\")\n",
        "print(f\"Instructions per second C++: {instructions_per_second}\")\n",
        "time_per_ins = 0.00361 / 76\n",
        "instructions_per_second = 1 / time_per_ins\n",
        "print(f\"Time per instruction Python: {time_per_ins}\")\n",
        "print(f\"Instructions per second Python: {instructions_per_second}\")"
      ],
      "metadata": {
        "colab": {
          "base_uri": "https://localhost:8080/"
        },
        "outputId": "2c5e86bc-ce47-40f4-af1c-e6543f3165e8",
        "id": "RoHTkLytdrj4"
      },
      "execution_count": null,
      "outputs": [
        {
          "output_type": "stream",
          "name": "stdout",
          "text": [
            "Time per instruction C++: 0.00012941176470588234\n",
            "Instructions per second C++: 7727.272727272728\n",
            "Time per instruction Python: 4.7499999999999996e-05\n",
            "Instructions per second Python: 21052.63157894737\n"
          ]
        }
      ]
    }
  ],
  "metadata": {
    "colab": {
      "provenance": [],
      "toc_visible": true
    },
    "kernelspec": {
      "display_name": "Python 3",
      "name": "python3"
    },
    "language_info": {
      "name": "python"
    }
  },
  "nbformat": 4,
  "nbformat_minor": 0
}